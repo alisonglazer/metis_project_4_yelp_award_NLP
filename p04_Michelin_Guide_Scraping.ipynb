{
 "cells": [
  {
   "cell_type": "markdown",
   "metadata": {},
   "source": [
    "# Reviews-Based Yelp Award Project\n",
    "# *Scrape California Michelin Guide*\n",
    "\n",
    "**Alison Glazer**\n",
    "\n",
    "This project is a conceptual idea for a new Yelp award that is driven by the content of a business's Yelp reviews. The initial prototype focuses on high-end restaurants in California, and the California Michelin Guide is used as a proxy for a judging criterion. \n",
    "\n",
    "This notebook contains the work done to scrape all of the restaurants included in the California Michelin Guide."
   ]
  },
  {
   "cell_type": "markdown",
   "metadata": {
    "toc": true
   },
   "source": [
    "<h1>Table of Contents<span class=\"tocSkip\"></span></h1>\n",
    "<div class=\"toc\"><ul class=\"toc-item\"><li><span><a href=\"#Import-Libraries\" data-toc-modified-id=\"Import-Libraries-1\"><span class=\"toc-item-num\">1&nbsp;&nbsp;</span>Import Libraries</a></span></li><li><span><a href=\"#Scrape-the-Michelin-Guide-website-for-all-restaurant-names-in-the-California-2019-guide\" data-toc-modified-id=\"Scrape-the-Michelin-Guide-website-for-all-restaurant-names-in-the-California-2019-guide-2\"><span class=\"toc-item-num\">2&nbsp;&nbsp;</span>Scrape the Michelin Guide website for all restaurant names in the California 2019 guide</a></span></li></ul></div>"
   ]
  },
  {
   "cell_type": "markdown",
   "metadata": {},
   "source": [
    "## Import Libraries"
   ]
  },
  {
   "cell_type": "code",
   "execution_count": 16,
   "metadata": {},
   "outputs": [],
   "source": [
    "# Web Scraping\n",
    "import requests\n",
    "from bs4 import BeautifulSoup\n",
    "import random\n",
    "import time\n",
    "\n",
    "# Numerical / Data\n",
    "import pandas as pd\n",
    "import numpy as np\n",
    "import datetime as dt\n",
    "\n",
    "# Saving\n",
    "import pickle"
   ]
  },
  {
   "cell_type": "markdown",
   "metadata": {},
   "source": [
    "## Scrape the Michelin Guide website for all restaurant names in the California 2019 guide"
   ]
  },
  {
   "cell_type": "markdown",
   "metadata": {},
   "source": [
    "Define a function to retrieve the HTML code from a URL. Randomize the user-agent to minimize the likelihood of the request being denied. "
   ]
  },
  {
   "cell_type": "code",
   "execution_count": 2,
   "metadata": {},
   "outputs": [],
   "source": [
    "def get_soup(url):\n",
    "    \"\"\"\n",
    "    This function parses a URL and returns the HTML code\n",
    "    ---\n",
    "    Input: URL (string)\n",
    "    Output: HTML code (bs4.BeautifulSoup object)\n",
    "    \"\"\"\n",
    "    UAS = (\n",
    "        \"Mozilla/5.0 (Windows NT 6.1; WOW64; rv:40.0) Gecko\\\n",
    "        /20100101 Firefox/40.1\",\n",
    "        \"Mozilla/5.0 (Windows NT 6.3; rv:36.0) Gecko/20100101\\\n",
    "        Firefox/36.0\",\n",
    "        \"Mozilla/5.0 (Macintosh; Intel Mac OS X 10_10; rv:33.0)\\\n",
    "        Gecko/20100101 Firefox/33.0\",\n",
    "        \"Mozilla/5.0 (Windows NT 6.1) AppleWebKit/537.36\\\n",
    "        (KHTML, like Gecko) Chrome/41.0.2228.0 Safari/537.36\",\n",
    "        \"Mozilla/5.0 (Macintosh; Intel Mac OS X 10_10_1) \\\n",
    "        AppleWebKit/537.36 (KHTML, like Gecko) Chrome/41.0.2227.1 \\\n",
    "        Safari/537.36\",\n",
    "        \"Mozilla/5.0 (Windows NT 6.1; WOW64) AppleWebKit/537.36 \\\n",
    "        (KHTML, like Gecko) Chrome/41.0.2227.0 Safari/537.36\",\n",
    "    )\n",
    "\n",
    "    ua = UAS[np.random.randint(0, len(UAS))]\n",
    "\n",
    "    headers = {'user-agent': ua}\n",
    "    response = requests.get(url, headers=headers)\n",
    "    print(response.status_code)\n",
    "    if str(response.status_code)[0] != '2':\n",
    "        print('Check status code = {}'.format(response.status_code))\n",
    "        return\n",
    "    soup = BeautifulSoup(response.text, 'lxml')\n",
    "    return soup"
   ]
  },
  {
   "cell_type": "markdown",
   "metadata": {},
   "source": [
    "There are 649 restaurants in the 2019 California Michelin guide. Generate a list with URLs for all pages containing the restaurants names"
   ]
  },
  {
   "cell_type": "code",
   "execution_count": 3,
   "metadata": {},
   "outputs": [],
   "source": [
    "# Make list of URL's to scrape for restaurant names\n",
    "michelin_urls = []\n",
    "for i in np.arange(1,34,1):\n",
    "    michelin_urls.append('https://guide.michelin.com/us/en/california/restaurants/page/{}'.format(i))"
   ]
  },
  {
   "cell_type": "code",
   "execution_count": 4,
   "metadata": {},
   "outputs": [],
   "source": [
    "def get_restaurants_from_page(michelin_url):\n",
    "    \"\"\"\n",
    "    Returns the names of the restaurants on this results page from the Michelin Guide website\n",
    "    \"\"\"\n",
    "    print(michelin_url)\n",
    "    soup = get_soup(michelin_url)\n",
    "    restaurant_tags = soup.find_all(class_ = 'card__menu-content--title last')\n",
    "    names = []\n",
    "    for tag in restaurant_tags:\n",
    "        names.append(' '.join(tag.text.split()))\n",
    "    return names"
   ]
  },
  {
   "cell_type": "markdown",
   "metadata": {},
   "source": [
    "This is an iterative process. The Michelin Guide website randomizes the order of the restaurants, so visiting consecutive pages does not always produce unique restaurant names from the previous page. Run this several times and maintain a SET of restaurants until all restaurant names have been logged."
   ]
  },
  {
   "cell_type": "code",
   "execution_count": 24,
   "metadata": {},
   "outputs": [
    {
     "name": "stdout",
     "output_type": "stream",
     "text": [
      "https://guide.michelin.com/us/en/california/restaurants/page/1\n",
      "200\n",
      "https://guide.michelin.com/us/en/california/restaurants/page/2\n",
      "200\n",
      "https://guide.michelin.com/us/en/california/restaurants/page/3\n",
      "200\n",
      "https://guide.michelin.com/us/en/california/restaurants/page/4\n",
      "200\n",
      "https://guide.michelin.com/us/en/california/restaurants/page/5\n",
      "200\n",
      "https://guide.michelin.com/us/en/california/restaurants/page/6\n",
      "200\n",
      "https://guide.michelin.com/us/en/california/restaurants/page/7\n",
      "200\n",
      "https://guide.michelin.com/us/en/california/restaurants/page/8\n",
      "200\n",
      "https://guide.michelin.com/us/en/california/restaurants/page/9\n",
      "200\n",
      "https://guide.michelin.com/us/en/california/restaurants/page/10\n",
      "200\n",
      "https://guide.michelin.com/us/en/california/restaurants/page/11\n",
      "200\n",
      "https://guide.michelin.com/us/en/california/restaurants/page/12\n",
      "200\n",
      "https://guide.michelin.com/us/en/california/restaurants/page/13\n",
      "200\n",
      "https://guide.michelin.com/us/en/california/restaurants/page/14\n",
      "200\n",
      "https://guide.michelin.com/us/en/california/restaurants/page/15\n",
      "200\n",
      "https://guide.michelin.com/us/en/california/restaurants/page/16\n",
      "200\n",
      "https://guide.michelin.com/us/en/california/restaurants/page/17\n",
      "200\n",
      "https://guide.michelin.com/us/en/california/restaurants/page/18\n",
      "200\n",
      "https://guide.michelin.com/us/en/california/restaurants/page/19\n",
      "200\n",
      "https://guide.michelin.com/us/en/california/restaurants/page/20\n",
      "200\n",
      "https://guide.michelin.com/us/en/california/restaurants/page/21\n",
      "200\n",
      "https://guide.michelin.com/us/en/california/restaurants/page/22\n",
      "200\n",
      "https://guide.michelin.com/us/en/california/restaurants/page/23\n",
      "200\n",
      "https://guide.michelin.com/us/en/california/restaurants/page/24\n",
      "200\n",
      "https://guide.michelin.com/us/en/california/restaurants/page/25\n",
      "200\n",
      "https://guide.michelin.com/us/en/california/restaurants/page/26\n",
      "200\n",
      "https://guide.michelin.com/us/en/california/restaurants/page/27\n",
      "200\n",
      "https://guide.michelin.com/us/en/california/restaurants/page/28\n",
      "200\n",
      "https://guide.michelin.com/us/en/california/restaurants/page/29\n",
      "200\n",
      "https://guide.michelin.com/us/en/california/restaurants/page/30\n",
      "200\n",
      "https://guide.michelin.com/us/en/california/restaurants/page/31\n",
      "200\n",
      "https://guide.michelin.com/us/en/california/restaurants/page/32\n",
      "200\n",
      "https://guide.michelin.com/us/en/california/restaurants/page/33\n",
      "200\n"
     ]
    }
   ],
   "source": [
    "michelin_restaurants4 = []\n",
    "for url in michelin_urls:\n",
    "    michelin_restaurants4 += get_restaurants_from_page(url)"
   ]
  },
  {
   "cell_type": "code",
   "execution_count": 22,
   "metadata": {},
   "outputs": [
    {
     "data": {
      "text/plain": [
       "604"
      ]
     },
     "execution_count": 22,
     "metadata": {},
     "output_type": "execute_result"
    }
   ],
   "source": [
    "mich = michelin_restaurants + michelin_restaurants2 + michelin_restaurants3 + michelin_restaurants4\n",
    "len(set(mich))"
   ]
  },
  {
   "cell_type": "code",
   "execution_count": 23,
   "metadata": {},
   "outputs": [],
   "source": [
    "# Save data for analysis\n",
    "pd.Series(list(set(mich))).to_pickle('data/michelin_scrape_restaurants.pkl')"
   ]
  },
  {
   "cell_type": "code",
   "execution_count": null,
   "metadata": {},
   "outputs": [],
   "source": []
  }
 ],
 "metadata": {
  "kernelspec": {
   "display_name": "Python 3",
   "language": "python",
   "name": "python3"
  },
  "language_info": {
   "codemirror_mode": {
    "name": "ipython",
    "version": 3
   },
   "file_extension": ".py",
   "mimetype": "text/x-python",
   "name": "python",
   "nbconvert_exporter": "python",
   "pygments_lexer": "ipython3",
   "version": "3.7.3"
  },
  "toc": {
   "base_numbering": 1,
   "nav_menu": {},
   "number_sections": true,
   "sideBar": true,
   "skip_h1_title": true,
   "title_cell": "Table of Contents",
   "title_sidebar": "Contents",
   "toc_cell": true,
   "toc_position": {},
   "toc_section_display": true,
   "toc_window_display": true
  }
 },
 "nbformat": 4,
 "nbformat_minor": 4
}
