{
 "cells": [
  {
   "cell_type": "markdown",
   "metadata": {},
   "source": [
    "# Reviews-Based Yelp Award Project\n",
    "# *Natural Language Processing*\n",
    "\n",
    "**Alison Glazer**\n",
    "\n",
    "This project is a conceptual idea for a new Yelp award that is driven by the content of a business's Yelp reviews. The initial prototype focuses on high-end restaurants in California, and the California Michelin Guide is used as a proxy for a judging criterion. \n",
    "\n",
    "This notebook contains the natural language processing done on the Yelp reviews. For each restaurant, all reviews are consolidated into a single document. The corpus is a collection of these documents for high-end restaurants in California."
   ]
  },
  {
   "cell_type": "markdown",
   "metadata": {
    "toc": true
   },
   "source": [
    "<h1>Table of Contents<span class=\"tocSkip\"></span></h1>\n",
    "<div class=\"toc\"><ul class=\"toc-item\"><li><span><a href=\"#Import-Libraries\" data-toc-modified-id=\"Import-Libraries-1\"><span class=\"toc-item-num\">1&nbsp;&nbsp;</span>Import Libraries</a></span></li><li><span><a href=\"#Load-&amp;-Clean-Data\" data-toc-modified-id=\"Load-&amp;-Clean-Data-2\"><span class=\"toc-item-num\">2&nbsp;&nbsp;</span>Load &amp; Clean Data</a></span></li><li><span><a href=\"#Exploratory-Data-Analysis\" data-toc-modified-id=\"Exploratory-Data-Analysis-3\"><span class=\"toc-item-num\">3&nbsp;&nbsp;</span>Exploratory Data Analysis</a></span></li><li><span><a href=\"#Pre-Process-Text-Data\" data-toc-modified-id=\"Pre-Process-Text-Data-4\"><span class=\"toc-item-num\">4&nbsp;&nbsp;</span>Pre-Process Text Data</a></span></li><li><span><a href=\"#Split-up-by-restaurants\" data-toc-modified-id=\"Split-up-by-restaurants-5\"><span class=\"toc-item-num\">5&nbsp;&nbsp;</span>Split up by restaurants</a></span><ul class=\"toc-item\"><li><span><a href=\"#LSA-on-restaurant-split\" data-toc-modified-id=\"LSA-on-restaurant-split-5.1\"><span class=\"toc-item-num\">5.1&nbsp;&nbsp;</span>LSA on restaurant split</a></span></li></ul></li><li><span><a href=\"#NMF-on-restaurant-split\" data-toc-modified-id=\"NMF-on-restaurant-split-6\"><span class=\"toc-item-num\">6&nbsp;&nbsp;</span>NMF on restaurant split</a></span></li><li><span><a href=\"#LDA-on-restaurant-split\" data-toc-modified-id=\"LDA-on-restaurant-split-7\"><span class=\"toc-item-num\">7&nbsp;&nbsp;</span>LDA on restaurant split</a></span></li><li><span><a href=\"#Topic-Modeling-on-Example-=-Bullion-from-Dallas,-TX\" data-toc-modified-id=\"Topic-Modeling-on-Example-=-Bullion-from-Dallas,-TX-8\"><span class=\"toc-item-num\">8&nbsp;&nbsp;</span>Topic Modeling on Example = Bullion from Dallas, TX</a></span></li><li><span><a href=\"#SANDBOX\" data-toc-modified-id=\"SANDBOX-9\"><span class=\"toc-item-num\">9&nbsp;&nbsp;</span>SANDBOX</a></span></li><li><span><a href=\"#Clustering\" data-toc-modified-id=\"Clustering-10\"><span class=\"toc-item-num\">10&nbsp;&nbsp;</span>Clustering</a></span><ul class=\"toc-item\"><li><span><a href=\"#KMeans\" data-toc-modified-id=\"KMeans-10.1\"><span class=\"toc-item-num\">10.1&nbsp;&nbsp;</span>KMeans</a></span></li></ul></li><li><span><a href=\"#Clustering-with-KMeans\" data-toc-modified-id=\"Clustering-with-KMeans-11\"><span class=\"toc-item-num\">11&nbsp;&nbsp;</span>Clustering with KMeans</a></span></li><li><span><a href=\"#Clustering-with-DBSCAN\" data-toc-modified-id=\"Clustering-with-DBSCAN-12\"><span class=\"toc-item-num\">12&nbsp;&nbsp;</span>Clustering with DBSCAN</a></span></li></ul></div>"
   ]
  },
  {
   "cell_type": "markdown",
   "metadata": {},
   "source": [
    "<a id=\"import_libraries\"></a>\n",
    "## Import Libraries"
   ]
  },
  {
   "cell_type": "code",
   "execution_count": 3,
   "metadata": {},
   "outputs": [],
   "source": [
    "# Data\n",
    "import pandas as pd\n",
    "import numpy as np\n",
    "import datetime as dt\n",
    "from collections import Counter\n",
    "\n",
    "# Plotting\n",
    "import matplotlib.pyplot as plt\n",
    "%matplotlib inline\n",
    "import seaborn as sns\n",
    "\n",
    "# Saving\n",
    "import pickle\n",
    "\n",
    "# Modeling / Clustering\n",
    "from sklearn.model_selection import train_test_split\n",
    "from sklearn.cluster import KMeans,DBSCAN\n",
    "from sklearn.preprocessing import StandardScaler, Normalizer\n",
    "from sklearn.metrics.cluster import silhouette_score\n",
    "from sklearn.decomposition import PCA\n",
    "from itertools import cycle\n",
    "\n",
    "# Text\n",
    "import re\n",
    "import string\n",
    "\n",
    "import nltk\n",
    "from nltk.tokenize import word_tokenize\n",
    "# from nltk.stem.porter import PorterStemmer\n",
    "from nltk.stem.snowball import SnowballStemmer\n",
    "\n",
    "from sklearn.feature_extraction.text import CountVectorizer\n",
    "from sklearn.feature_extraction.text import TfidfVectorizer\n",
    "from sklearn.feature_extraction import text\n",
    "from nltk.tokenize import MWETokenizer\n",
    "from sklearn.decomposition import TruncatedSVD\n",
    "from sklearn.decomposition import NMF\n",
    "\n",
    "from gensim import corpora, models, similarities, matutils\n",
    "from gensim.models import Phrases\n",
    "from gensim.models.word2vec import LineSentence\n",
    "\n",
    "# Logging for gensim (set to INFO)\n",
    "# import logging\n",
    "# logging.basicConfig(format='%(asctime)s : %(levelname)s : %(message)s', level=logging.INFO)"
   ]
  },
  {
   "cell_type": "markdown",
   "metadata": {},
   "source": [
    "<a id='load_data'></a>\n",
    "## Load & Clean Data\n",
    "\n",
    "Load the datasets containing labeled yelp reviews and associated metadata"
   ]
  },
  {
   "cell_type": "code",
   "execution_count": 4,
   "metadata": {},
   "outputs": [],
   "source": [
    "import pickle"
   ]
  },
  {
   "cell_type": "code",
   "execution_count": 5,
   "metadata": {},
   "outputs": [],
   "source": [
    "# Restaurant Data\n",
    "with open('data/ca_restaurants.pkl','rb') as read_file:\n",
    "    restaurants = pickle.load(read_file)"
   ]
  },
  {
   "cell_type": "code",
   "execution_count": 6,
   "metadata": {},
   "outputs": [],
   "source": [
    "# Review Data\n",
    "with open('data/ca_reviews.pkl','rb') as read_file:\n",
    "    df = pickle.load(read_file)"
   ]
  },
  {
   "cell_type": "code",
   "execution_count": 7,
   "metadata": {},
   "outputs": [],
   "source": [
    "# Group by restaurant and concatenate all reviews for each one\n",
    "reviews_compiled = df.groupby('restaurantID')['reviewContent'].transform(lambda x: ' '.join(x))\n",
    "reviews_compiled = pd.DataFrame([reviews_compiled,df.restaurantID]).transpose()"
   ]
  },
  {
   "cell_type": "code",
   "execution_count": 8,
   "metadata": {},
   "outputs": [],
   "source": [
    "reviews_compiled = reviews_compiled.drop_duplicates()"
   ]
  },
  {
   "cell_type": "code",
   "execution_count": 9,
   "metadata": {},
   "outputs": [],
   "source": [
    "del df"
   ]
  },
  {
   "cell_type": "code",
   "execution_count": 10,
   "metadata": {},
   "outputs": [],
   "source": [
    "reviews_compiled.to_pickle('data/reviews_compiled.pkl')"
   ]
  },
  {
   "cell_type": "code",
   "execution_count": 11,
   "metadata": {},
   "outputs": [],
   "source": [
    "# Reviews df\n",
    "with open('data/reviews_compiled.pkl','rb') as read_file:\n",
    "    reviews_compiled = pickle.load(read_file)"
   ]
  },
  {
   "cell_type": "code",
   "execution_count": 12,
   "metadata": {},
   "outputs": [
    {
     "data": {
      "text/plain": [
       "(2371, 2)"
      ]
     },
     "execution_count": 12,
     "metadata": {},
     "output_type": "execute_result"
    }
   ],
   "source": [
    "reviews_compiled.shape"
   ]
  },
  {
   "cell_type": "code",
   "execution_count": 13,
   "metadata": {},
   "outputs": [
    {
     "data": {
      "text/html": [
       "<div>\n",
       "<style scoped>\n",
       "    .dataframe tbody tr th:only-of-type {\n",
       "        vertical-align: middle;\n",
       "    }\n",
       "\n",
       "    .dataframe tbody tr th {\n",
       "        vertical-align: top;\n",
       "    }\n",
       "\n",
       "    .dataframe thead th {\n",
       "        text-align: right;\n",
       "    }\n",
       "</style>\n",
       "<table border=\"1\" class=\"dataframe\">\n",
       "  <thead>\n",
       "    <tr style=\"text-align: right;\">\n",
       "      <th></th>\n",
       "      <th>reviewContent</th>\n",
       "      <th>restaurantID</th>\n",
       "    </tr>\n",
       "  </thead>\n",
       "  <tbody>\n",
       "    <tr>\n",
       "      <td>0</td>\n",
       "      <td>Nick's on Main has been my favorite South Bay ...</td>\n",
       "      <td>WUi5FGO9GllvkR83HEfMqw</td>\n",
       "    </tr>\n",
       "    <tr>\n",
       "      <td>1</td>\n",
       "      <td>The Church cocktail is pure summer cocktail pe...</td>\n",
       "      <td>43Ca7h2QxO6so8IvRk91FQ</td>\n",
       "    </tr>\n",
       "    <tr>\n",
       "      <td>2</td>\n",
       "      <td>One of the best meals I've had in a long long ...</td>\n",
       "      <td>6ZNlnA733Rv0I9Mq5_yO0A</td>\n",
       "    </tr>\n",
       "    <tr>\n",
       "      <td>3</td>\n",
       "      <td>Great Italian in Healdsberg Very yummy and a g...</td>\n",
       "      <td>vGTDBVj4m1-ZvtxgckUl2w</td>\n",
       "    </tr>\n",
       "    <tr>\n",
       "      <td>4</td>\n",
       "      <td>This is my go-to place for celebrating a speci...</td>\n",
       "      <td>Mk1expZCld__kiq_-t7K9g</td>\n",
       "    </tr>\n",
       "    <tr>\n",
       "      <td>...</td>\n",
       "      <td>...</td>\n",
       "      <td>...</td>\n",
       "    </tr>\n",
       "    <tr>\n",
       "      <td>15667</td>\n",
       "      <td>My cousin suggested this place since she's bee...</td>\n",
       "      <td>ATNT7TZFesc5E-JM9LzEpw</td>\n",
       "    </tr>\n",
       "    <tr>\n",
       "      <td>15675</td>\n",
       "      <td>Never cared for Yankee Pier, but decided to gi...</td>\n",
       "      <td>qtsSpL-kFiN-lJ0NHPFtYg</td>\n",
       "    </tr>\n",
       "    <tr>\n",
       "      <td>15700</td>\n",
       "      <td>A cozy, under-the-radar SF supperclub, run by ...</td>\n",
       "      <td>vt_5lTfNKZo7V0tun2VvJQ</td>\n",
       "    </tr>\n",
       "    <tr>\n",
       "      <td>15714</td>\n",
       "      <td>Date/Time: Â Monday - 8pm Occasion: Â Valentin...</td>\n",
       "      <td>7drBnDU03TSSaK2XO_-Frw</td>\n",
       "    </tr>\n",
       "    <tr>\n",
       "      <td>15715</td>\n",
       "      <td>Neat little specialty food shop. They have a l...</td>\n",
       "      <td>BJkrx03r-eH3ZpYporZvgg</td>\n",
       "    </tr>\n",
       "  </tbody>\n",
       "</table>\n",
       "<p>2371 rows × 2 columns</p>\n",
       "</div>"
      ],
      "text/plain": [
       "                                           reviewContent  \\\n",
       "0      Nick's on Main has been my favorite South Bay ...   \n",
       "1      The Church cocktail is pure summer cocktail pe...   \n",
       "2      One of the best meals I've had in a long long ...   \n",
       "3      Great Italian in Healdsberg Very yummy and a g...   \n",
       "4      This is my go-to place for celebrating a speci...   \n",
       "...                                                  ...   \n",
       "15667  My cousin suggested this place since she's bee...   \n",
       "15675  Never cared for Yankee Pier, but decided to gi...   \n",
       "15700  A cozy, under-the-radar SF supperclub, run by ...   \n",
       "15714  Date/Time: Â Monday - 8pm Occasion: Â Valentin...   \n",
       "15715  Neat little specialty food shop. They have a l...   \n",
       "\n",
       "                 restaurantID  \n",
       "0      WUi5FGO9GllvkR83HEfMqw  \n",
       "1      43Ca7h2QxO6so8IvRk91FQ  \n",
       "2      6ZNlnA733Rv0I9Mq5_yO0A  \n",
       "3      vGTDBVj4m1-ZvtxgckUl2w  \n",
       "4      Mk1expZCld__kiq_-t7K9g  \n",
       "...                       ...  \n",
       "15667  ATNT7TZFesc5E-JM9LzEpw  \n",
       "15675  qtsSpL-kFiN-lJ0NHPFtYg  \n",
       "15700  vt_5lTfNKZo7V0tun2VvJQ  \n",
       "15714  7drBnDU03TSSaK2XO_-Frw  \n",
       "15715  BJkrx03r-eH3ZpYporZvgg  \n",
       "\n",
       "[2371 rows x 2 columns]"
      ]
     },
     "execution_count": 13,
     "metadata": {},
     "output_type": "execute_result"
    }
   ],
   "source": [
    "reviews_compiled"
   ]
  },
  {
   "cell_type": "markdown",
   "metadata": {},
   "source": [
    "<a id=\"eda\"></a>\n",
    "## Exploratory Data Analysis"
   ]
  },
  {
   "cell_type": "code",
   "execution_count": 14,
   "metadata": {},
   "outputs": [],
   "source": [
    "# Create new column for list of restaurant categories\n",
    "restaurants['category_list'] = restaurants.categories.str.split(',')"
   ]
  },
  {
   "cell_type": "code",
   "execution_count": 15,
   "metadata": {},
   "outputs": [],
   "source": [
    "# Create flat list of all restaurant categories\n",
    "restaurant_categories = [category.strip(' ') for sublist in list(restaurants.category_list) for category in sublist]\n",
    "\n",
    "restaurant_categories = [category for category in restaurant_categories if category != 'METADATA' and category != 'Restaurants']\n"
   ]
  },
  {
   "cell_type": "code",
   "execution_count": 16,
   "metadata": {},
   "outputs": [
    {
     "data": {
      "image/png": "[encoded data removed]",
      "text/plain": [
       "<Figure size 648x360 with 1 Axes>"
      ]
     },
     "metadata": {
      "needs_background": "light"
     },
     "output_type": "display_data"
    }
   ],
   "source": [
    "# Count occurences of each\n",
    "category_counts = Counter(restaurant_categories).most_common()\n",
    "# Look at the distribution\n",
    "plt.figure(figsize=(9, 5))\n",
    "plt.bar([x[0] for x in category_counts[0:50]],\n",
    "        [x[1] for x in category_counts[0:50]],\n",
    "        width=0.8)\n",
    "plt.xticks(rotation=90)\n",
    "plt.title('')\n",
    "sns.despine()"
   ]
  },
  {
   "cell_type": "markdown",
   "metadata": {},
   "source": [
    "<a id=\"preprocess\"></a>\n",
    "## Pre-Process Text Data"
   ]
  },
  {
   "cell_type": "code",
   "execution_count": 17,
   "metadata": {},
   "outputs": [],
   "source": [
    "def preprocess(docs):\n",
    "    \"\"\"\n",
    "    Preprocess a corpus (Series) of documents before using a vectorizer\n",
    "    - remove numbers and punctuation\n",
    "    - remove urls\n",
    "    - convert all text to lower case\n",
    "    \"\"\"\n",
    "    # Remove numbers and punctuation\n",
    "    alphanumeric = lambda x: re.sub('\\w*\\d\\w*', ' ', x)\n",
    "    \n",
    "    # Convert all text to lowercase\n",
    "    punc_lower = lambda x: re.sub('[%s]' % re.escape(string.punctuation), ' ', x.lower())\n",
    "    \n",
    "    # Remove all image links\n",
    "    image_link = lambda x: re.sub('http.*?¦',' ', x)\n",
    "    \n",
    "    return docs.map(alphanumeric).map(punc_lower).map(image_link)"
   ]
  },
  {
   "cell_type": "code",
   "execution_count": 18,
   "metadata": {},
   "outputs": [],
   "source": [
    "restaurant_names = list(preprocess(restaurants.name))"
   ]
  },
  {
   "cell_type": "code",
   "execution_count": 90,
   "metadata": {},
   "outputs": [],
   "source": [
    "stemmer=nltk.SnowballStemmer(\"english\", ignore_stopwords=True)\n",
    "\n",
    "def stem_tokens(tokens,stemmer):\n",
    "    '''\n",
    "    Stem word tokens using the English SnowballStemmer\n",
    "    '''\n",
    "    stemmed=[]\n",
    "    for token in tokens:\n",
    "        stemmed.append(stemmer.stem(token))\n",
    "    stemmed=[w for w in stemmed if len(w) > 3]\n",
    "    return stemmed\n",
    "\n",
    "# Stop words\n",
    "stop_words_pre = ['michael mina','restaurant','yank sing','santa monica','just','ve','come','came','really','realli','restaurant','restaur','san francisco','california','michelin','michelin star','gary','danko','gary danko','french laundry','french laundri','jose andres','jose','slanted door','ferry building','los angeles','thomas keller','ruth chris','ruths chris',\"ruth/'s chris'\",'foreign cinema','santa','monica','santa monica','ruth chris','ruth','ruths chris','ritz carlton','ritz','carlton','yank',\n",
    "                    'yank sing','slant door','slanted door','kokkari','bazaar','french laundry','french laundri','michael mina',\n",
    "                    'angelini osteria', 'laundry','laundri','dish','door','slant','slanted','place','zuni','pretty','pretti','keller','mina',\n",
    "                  'michael','nice','star','gordon','ramsay','chez','sotto','tsar','josi','jeanti','yountvill','crenn','bouchon','natasha','oishii',\n",
    "                  'buttah','raymond','huntington','secretari','walnut','downtown','creek','madeo','baldi','riversid','riverside',\n",
    "                  'bastilla','nozawa','culver','sofa','bonnet','safeway','jacqueline','jaqueline','quan','nhau','alsatian','germani',\n",
    "                  'jacquelin','firehous','firehouse','christin','chris','christine','marriott', 'does','girlfriend'\n",
    "                   ]\n",
    "stop_words = stem_tokens(list(preprocess(pd.Series(stop_words_pre))),nltk.SnowballStemmer(\"english\", ignore_stopwords=True))"
   ]
  },
  {
   "cell_type": "code",
   "execution_count": 91,
   "metadata": {},
   "outputs": [],
   "source": [
    "def tokenize_and_stem(text):\n",
    "    '''\n",
    "    Tokenize and stem text\n",
    "    '''\n",
    "    tokens=nltk.word_tokenize(text)\n",
    "    \n",
    "    mwe_tokenizer = MWETokenizer(mwes=[('hotel','room'),('small','plate'),('small','plates'),('garlic','noodles'),\n",
    "                                  ('garlic','noodle'),('bloodi','mari'),('lamb','chop'),('creamed','corn'),\n",
    "                                  ('creamed','spinach'),('cream','corn'),('cream','spinach'),('crab','cake'),\n",
    "                                  ('hand','roll'),('chocolate','cake'),('duck','confit'),('brussels','sprouts'),\n",
    "                                  ('brussel','sprout'),('miso','soup'),('black','truffle'),('black','truffl'),\n",
    "                                  ('deep','dish'),('chicago','style'),('spacca','napoli'),('pork','belly'),\n",
    "                                  ('foie','gras'),('tasting','menu'),('restaurant','week'),('cotton','candy'),\n",
    "                                  ('foie','gras'),('maine','lobster'),('maine','lobster'),('wagyu','beef'),\n",
    "                                  ('philly','cheesesteak'),('chocolate','souffle'),('squash','blossom'),\n",
    "                                  ('imperial','roll'),('goat','cheese'),('french','onion','soup'),\n",
    "                                  ('spring','roll'),('pork','chop'),('bone','marrow'),('steak','tartar'),\n",
    "                                  ('kobe','beef'),('tuna','tartar'),('crispy','rice'),('panna','cotta'),\n",
    "                                  ('roast','chicken'),('happy','hour'),('spicy','tuna'),('medium','rare'),\n",
    "                                  ('mashed','potatoes'),('mahi','mahi'),('filet','mignon'),('blue','crab'),\n",
    "                                  ('dungeness','crab'),('clam','chowder'),('tikka','masala'),('gluten','free'),\n",
    "                                  ('creme','brulee'),('whipped','cream'),\n",
    "                                 ('good','food'),('good','service'),('good','view'),('dining','room'),\n",
    "                                  ('dine','room'),('fresh','fish'),('amus','bouch'),('amuse','bouche'),\n",
    "                                  ('baked','potato'),('chocolate','fondue'),('cheese','fondue'),\n",
    "                                  ('great','service'),('great','food'),('italian','food'),('indian','food'),\n",
    "                                    ('shabu','shabu'),('tomato','sauce'),('awesome','food'),('horrible','food')\n",
    "                                 ])\n",
    "    tokens = mwe_tokenizer.tokenize(tokens)\n",
    "    \n",
    "    #Alphabetical tokens only with word length greater than 3\n",
    "    tokens = [w for w in tokens if len(w) > 3]\n",
    "    stems=stem_tokens(tokens,stemmer)\n",
    "    return stems\n",
    "\n",
    "# Stop words\n",
    "my_stop_words = text.ENGLISH_STOP_WORDS.union(set(stop_words))\n",
    "\n",
    "def countvec(docs,tokenizer=tokenize_and_stem,ngram_range=(2,3),stop_words=my_stop_words,min_df=0.03,max_df=0.85):\n",
    "    \"\"\"\n",
    "    Generate document-term inputs for topic modeling with LSA and NMF(doc_term_mat) and LDA(corpus, id2word) using count-vectorizer\n",
    "    ----\n",
    "    Input: series of documents (strings)\n",
    "    Output: Document-term matrix\n",
    "    \"\"\"\n",
    "    count_vectorizer = CountVectorizer(tokenizer=tokenizer, ngram_range=ngram_range, stop_words=stop_words,min_df=min_df,max_df=max_df);\n",
    "    count_vectorizer.fit(docs);\n",
    "    \n",
    "    # Create document-term matrix for use in LSA and NMF\n",
    "    doc_term_mat = count_vectorizer.transform(docs)\n",
    "    \n",
    "    # Create inputs for LDA\n",
    "    corpus = matutils.Sparse2Corpus(doc_term_mat.transpose())\n",
    "    id2word = dict((v, k) for k, v in count_vectorizer.vocabulary_.items())\n",
    "    \n",
    "    return count_vectorizer, doc_term_mat, corpus, id2word\n",
    "\n",
    "def tfidfvec(docs,tokenizer=tokenize_and_stem,ngram_range=(2,3),stop_words=my_stop_words,min_df=0.03,max_df=0.85):\n",
    "    \"\"\"\n",
    "    Generate document-term inputs for topic modeling with LSA and NMF(doc_term_mat) and LDA(corpus, id2word) using tf-idf-vectorizer\n",
    "    ----\n",
    "    Input: series of documents (strings)\n",
    "    Output: Document-term matrix\n",
    "    \"\"\"\n",
    "    tf_vectorizer= TfidfVectorizer(tokenizer=tokenizer,ngram_range=ngram_range,stop_words=stop_words,min_df=min_df,max_df=max_df);\n",
    "    tf_vectorizer.fit(docs);\n",
    "\n",
    "    # Create document-term matrix for use in LSA and NMF\n",
    "    doc_term_mat = tf_vectorizer.transform(docs)\n",
    "    \n",
    "    # Create inputs for LDA\n",
    "    corpus = matutils.Sparse2Corpus(doc_term_mat.transpose())\n",
    "    id2word = dict((v, k) for k, v in tf_vectorizer.vocabulary_.items())    \n",
    "\n",
    "    return tf_vectorizer, doc_term_mat, corpus, id2word"
   ]
  },
  {
   "cell_type": "code",
   "execution_count": 21,
   "metadata": {},
   "outputs": [],
   "source": [
    "def display_topics(model, feature_names, no_top_words, topic_names=None):\n",
    "    \"\"\"\n",
    "    Display topics and top associated words given a topic model\n",
    "    \"\"\"\n",
    "    for ix, topic in enumerate(model.components_):\n",
    "        if not topic_names or not topic_names[ix]:\n",
    "            print(\"\\nTopic \", ix)\n",
    "        else:\n",
    "            print(\"\\nTopic: '\",topic_names[ix],\"'\")\n",
    "        print(\", \".join([feature_names[i]\n",
    "                        for i in topic.argsort()[:-no_top_words - 1:-1]]))"
   ]
  },
  {
   "cell_type": "markdown",
   "metadata": {},
   "source": [
    "Ignore reviews with less than 20 words"
   ]
  },
  {
   "cell_type": "code",
   "execution_count": null,
   "metadata": {},
   "outputs": [],
   "source": [
    "pd.DataFrame(doc_word.toarray(), count_vectorizer.get_feature_names()).head()"
   ]
  },
  {
   "cell_type": "code",
   "execution_count": null,
   "metadata": {},
   "outputs": [],
   "source": [
    "doc_word.shape"
   ]
  },
  {
   "cell_type": "code",
   "execution_count": null,
   "metadata": {},
   "outputs": [],
   "source": []
  },
  {
   "cell_type": "markdown",
   "metadata": {},
   "source": [
    "## Split up by restaurants\n",
    "All positive reviews for a restaurant joined into a single document"
   ]
  },
  {
   "cell_type": "code",
   "execution_count": 84,
   "metadata": {
    "collapsed": true,
    "jupyter": {
     "outputs_hidden": true
    }
   },
   "outputs": [
    {
     "name": "stderr",
     "output_type": "stream",
     "text": [
      "/anaconda3/envs/metis/lib/python3.6/site-packages/sklearn/feature_extraction/text.py:300: UserWarning: Your stop_words may be inconsistent with your preprocessing. Tokenizing the stop words generated tokens ['afterward', 'alon', 'alreadi', 'alway', 'andr', 'angel', 'angelini', 'anoth', 'anyon', 'anyth', 'anywher', 'becam', 'becom', 'besid', 'build', 'chri', 'cinema', 'describ', 'elsewher', 'empti', 'everi', 'everyon', 'everyth', 'everywher', 'ferri', 'fifti', 'foreign', 'forti', 'francisco', 'french', 'henc', 'hereaft', 'herebi', 'howev', 'hundr', 'inde', 'mani', 'meanwhil', 'moreov', 'nobodi', 'noon', 'noth', 'nowher', 'osteria', 'otherwis', 'perhap', 'pleas', 'sever', 'sinc', 'sincer', 'sixti', 'someon', 'someth', 'sometim', 'somewher', 'thenc', 'thereaft', 'therebi', 'therefor', 'thoma', 'togeth', 'twelv', 'twenti', 'whatev', 'whenc', 'whenev', 'wherea', 'whereaft', 'wherebi', 'wherev'] not in stop_words.\n",
      "  'stop_words.' % sorted(inconsistent))\n"
     ]
    },
    {
     "ename": "KeyboardInterrupt",
     "evalue": "",
     "output_type": "error",
     "traceback": [
      "\u001b[0;31m---------------------------------------------------------------------------\u001b[0m",
      "\u001b[0;31mKeyboardInterrupt\u001b[0m                         Traceback (most recent call last)",
      "\u001b[0;32m<ipython-input-84-1aec2227af08>\u001b[0m in \u001b[0;36m<module>\u001b[0;34m\u001b[0m\n\u001b[1;32m      1\u001b[0m \u001b[0;31m# Count Vectorizer\u001b[0m\u001b[0;34m\u001b[0m\u001b[0;34m\u001b[0m\u001b[0;34m\u001b[0m\u001b[0m\n\u001b[0;32m----> 2\u001b[0;31m \u001b[0mvectorizer_count\u001b[0m\u001b[0;34m,\u001b[0m \u001b[0mdoc_term_mat_count\u001b[0m\u001b[0;34m,\u001b[0m \u001b[0mcorpus_count\u001b[0m\u001b[0;34m,\u001b[0m \u001b[0mid2word_count\u001b[0m \u001b[0;34m=\u001b[0m \u001b[0mcountvec\u001b[0m\u001b[0;34m(\u001b[0m\u001b[0mpreprocess\u001b[0m\u001b[0;34m(\u001b[0m\u001b[0mreviews_compiled\u001b[0m\u001b[0;34m.\u001b[0m\u001b[0mreviewContent\u001b[0m\u001b[0;34m)\u001b[0m\u001b[0;34m,\u001b[0m\u001b[0mngram_range\u001b[0m\u001b[0;34m=\u001b[0m\u001b[0;34m(\u001b[0m\u001b[0;36m2\u001b[0m\u001b[0;34m,\u001b[0m\u001b[0;36m3\u001b[0m\u001b[0;34m)\u001b[0m\u001b[0;34m)\u001b[0m\u001b[0;34m\u001b[0m\u001b[0;34m\u001b[0m\u001b[0m\n\u001b[0m",
      "\u001b[0;32m<ipython-input-83-e572347c8de0>\u001b[0m in \u001b[0;36mcountvec\u001b[0;34m(docs, tokenizer, ngram_range, stop_words, min_df, max_df)\u001b[0m\n\u001b[1;32m     45\u001b[0m     \"\"\"\n\u001b[1;32m     46\u001b[0m     \u001b[0mcount_vectorizer\u001b[0m \u001b[0;34m=\u001b[0m \u001b[0mCountVectorizer\u001b[0m\u001b[0;34m(\u001b[0m\u001b[0mtokenizer\u001b[0m\u001b[0;34m=\u001b[0m\u001b[0mtokenizer\u001b[0m\u001b[0;34m,\u001b[0m \u001b[0mngram_range\u001b[0m\u001b[0;34m=\u001b[0m\u001b[0mngram_range\u001b[0m\u001b[0;34m,\u001b[0m \u001b[0mstop_words\u001b[0m\u001b[0;34m=\u001b[0m\u001b[0mstop_words\u001b[0m\u001b[0;34m,\u001b[0m\u001b[0mmin_df\u001b[0m\u001b[0;34m=\u001b[0m\u001b[0mmin_df\u001b[0m\u001b[0;34m,\u001b[0m\u001b[0mmax_df\u001b[0m\u001b[0;34m=\u001b[0m\u001b[0mmax_df\u001b[0m\u001b[0;34m)\u001b[0m\u001b[0;34m;\u001b[0m\u001b[0;34m\u001b[0m\u001b[0;34m\u001b[0m\u001b[0m\n\u001b[0;32m---> 47\u001b[0;31m     \u001b[0mcount_vectorizer\u001b[0m\u001b[0;34m.\u001b[0m\u001b[0mfit\u001b[0m\u001b[0;34m(\u001b[0m\u001b[0mdocs\u001b[0m\u001b[0;34m)\u001b[0m\u001b[0;34m;\u001b[0m\u001b[0;34m\u001b[0m\u001b[0;34m\u001b[0m\u001b[0m\n\u001b[0m\u001b[1;32m     48\u001b[0m \u001b[0;34m\u001b[0m\u001b[0m\n\u001b[1;32m     49\u001b[0m     \u001b[0;31m# Create document-term matrix for use in LSA and NMF\u001b[0m\u001b[0;34m\u001b[0m\u001b[0;34m\u001b[0m\u001b[0;34m\u001b[0m\u001b[0m\n",
      "\u001b[0;32m/anaconda3/envs/metis/lib/python3.6/site-packages/sklearn/feature_extraction/text.py\u001b[0m in \u001b[0;36mfit\u001b[0;34m(self, raw_documents, y)\u001b[0m\n\u001b[1;32m   1022\u001b[0m         \u001b[0mself\u001b[0m\u001b[0;34m\u001b[0m\u001b[0;34m\u001b[0m\u001b[0m\n\u001b[1;32m   1023\u001b[0m         \"\"\"\n\u001b[0;32m-> 1024\u001b[0;31m         \u001b[0mself\u001b[0m\u001b[0;34m.\u001b[0m\u001b[0mfit_transform\u001b[0m\u001b[0;34m(\u001b[0m\u001b[0mraw_documents\u001b[0m\u001b[0;34m)\u001b[0m\u001b[0;34m\u001b[0m\u001b[0;34m\u001b[0m\u001b[0m\n\u001b[0m\u001b[1;32m   1025\u001b[0m         \u001b[0;32mreturn\u001b[0m \u001b[0mself\u001b[0m\u001b[0;34m\u001b[0m\u001b[0;34m\u001b[0m\u001b[0m\n\u001b[1;32m   1026\u001b[0m \u001b[0;34m\u001b[0m\u001b[0m\n",
      "\u001b[0;32m/anaconda3/envs/metis/lib/python3.6/site-packages/sklearn/feature_extraction/text.py\u001b[0m in \u001b[0;36mfit_transform\u001b[0;34m(self, raw_documents, y)\u001b[0m\n\u001b[1;32m   1056\u001b[0m \u001b[0;34m\u001b[0m\u001b[0m\n\u001b[1;32m   1057\u001b[0m         vocabulary, X = self._count_vocab(raw_documents,\n\u001b[0;32m-> 1058\u001b[0;31m                                           self.fixed_vocabulary_)\n\u001b[0m\u001b[1;32m   1059\u001b[0m \u001b[0;34m\u001b[0m\u001b[0m\n\u001b[1;32m   1060\u001b[0m         \u001b[0;32mif\u001b[0m \u001b[0mself\u001b[0m\u001b[0;34m.\u001b[0m\u001b[0mbinary\u001b[0m\u001b[0;34m:\u001b[0m\u001b[0;34m\u001b[0m\u001b[0;34m\u001b[0m\u001b[0m\n",
      "\u001b[0;32m/anaconda3/envs/metis/lib/python3.6/site-packages/sklearn/feature_extraction/text.py\u001b[0m in \u001b[0;36m_count_vocab\u001b[0;34m(self, raw_documents, fixed_vocab)\u001b[0m\n\u001b[1;32m    968\u001b[0m         \u001b[0;32mfor\u001b[0m \u001b[0mdoc\u001b[0m \u001b[0;32min\u001b[0m \u001b[0mraw_documents\u001b[0m\u001b[0;34m:\u001b[0m\u001b[0;34m\u001b[0m\u001b[0;34m\u001b[0m\u001b[0m\n\u001b[1;32m    969\u001b[0m             \u001b[0mfeature_counter\u001b[0m \u001b[0;34m=\u001b[0m \u001b[0;34m{\u001b[0m\u001b[0;34m}\u001b[0m\u001b[0;34m\u001b[0m\u001b[0;34m\u001b[0m\u001b[0m\n\u001b[0;32m--> 970\u001b[0;31m             \u001b[0;32mfor\u001b[0m \u001b[0mfeature\u001b[0m \u001b[0;32min\u001b[0m \u001b[0manalyze\u001b[0m\u001b[0;34m(\u001b[0m\u001b[0mdoc\u001b[0m\u001b[0;34m)\u001b[0m\u001b[0;34m:\u001b[0m\u001b[0;34m\u001b[0m\u001b[0;34m\u001b[0m\u001b[0m\n\u001b[0m\u001b[1;32m    971\u001b[0m                 \u001b[0;32mtry\u001b[0m\u001b[0;34m:\u001b[0m\u001b[0;34m\u001b[0m\u001b[0;34m\u001b[0m\u001b[0m\n\u001b[1;32m    972\u001b[0m                     \u001b[0mfeature_idx\u001b[0m \u001b[0;34m=\u001b[0m \u001b[0mvocabulary\u001b[0m\u001b[0;34m[\u001b[0m\u001b[0mfeature\u001b[0m\u001b[0;34m]\u001b[0m\u001b[0;34m\u001b[0m\u001b[0;34m\u001b[0m\u001b[0m\n",
      "\u001b[0;32m/anaconda3/envs/metis/lib/python3.6/site-packages/sklearn/feature_extraction/text.py\u001b[0m in \u001b[0;36m<lambda>\u001b[0;34m(doc)\u001b[0m\n\u001b[1;32m    350\u001b[0m                                                tokenize)\n\u001b[1;32m    351\u001b[0m             return lambda doc: self._word_ngrams(\n\u001b[0;32m--> 352\u001b[0;31m                 tokenize(preprocess(self.decode(doc))), stop_words)\n\u001b[0m\u001b[1;32m    353\u001b[0m \u001b[0;34m\u001b[0m\u001b[0m\n\u001b[1;32m    354\u001b[0m         \u001b[0;32melse\u001b[0m\u001b[0;34m:\u001b[0m\u001b[0;34m\u001b[0m\u001b[0;34m\u001b[0m\u001b[0m\n",
      "\u001b[0;32m<ipython-input-83-e572347c8de0>\u001b[0m in \u001b[0;36mtokenize_and_stem\u001b[0;34m(text)\u001b[0m\n\u001b[1;32m     31\u001b[0m     \u001b[0;31m#Alphabetical tokens only with word length greater than 3\u001b[0m\u001b[0;34m\u001b[0m\u001b[0;34m\u001b[0m\u001b[0;34m\u001b[0m\u001b[0m\n\u001b[1;32m     32\u001b[0m     \u001b[0mtokens\u001b[0m \u001b[0;34m=\u001b[0m \u001b[0;34m[\u001b[0m\u001b[0mw\u001b[0m \u001b[0;32mfor\u001b[0m \u001b[0mw\u001b[0m \u001b[0;32min\u001b[0m \u001b[0mtokens\u001b[0m \u001b[0;32mif\u001b[0m \u001b[0mlen\u001b[0m\u001b[0;34m(\u001b[0m\u001b[0mw\u001b[0m\u001b[0;34m)\u001b[0m \u001b[0;34m>\u001b[0m \u001b[0;36m3\u001b[0m\u001b[0;34m]\u001b[0m\u001b[0;34m\u001b[0m\u001b[0;34m\u001b[0m\u001b[0m\n\u001b[0;32m---> 33\u001b[0;31m     \u001b[0mstems\u001b[0m\u001b[0;34m=\u001b[0m\u001b[0mstem_tokens\u001b[0m\u001b[0;34m(\u001b[0m\u001b[0mtokens\u001b[0m\u001b[0;34m,\u001b[0m\u001b[0mstemmer\u001b[0m\u001b[0;34m)\u001b[0m\u001b[0;34m\u001b[0m\u001b[0;34m\u001b[0m\u001b[0m\n\u001b[0m\u001b[1;32m     34\u001b[0m     \u001b[0;32mreturn\u001b[0m \u001b[0mstems\u001b[0m\u001b[0;34m\u001b[0m\u001b[0;34m\u001b[0m\u001b[0m\n\u001b[1;32m     35\u001b[0m \u001b[0;34m\u001b[0m\u001b[0m\n",
      "\u001b[0;32m<ipython-input-19-1734f007f866>\u001b[0m in \u001b[0;36mstem_tokens\u001b[0;34m(tokens, stemmer)\u001b[0m\n\u001b[1;32m      7\u001b[0m     \u001b[0mstemmed\u001b[0m\u001b[0;34m=\u001b[0m\u001b[0;34m[\u001b[0m\u001b[0;34m]\u001b[0m\u001b[0;34m\u001b[0m\u001b[0;34m\u001b[0m\u001b[0m\n\u001b[1;32m      8\u001b[0m     \u001b[0;32mfor\u001b[0m \u001b[0mtoken\u001b[0m \u001b[0;32min\u001b[0m \u001b[0mtokens\u001b[0m\u001b[0;34m:\u001b[0m\u001b[0;34m\u001b[0m\u001b[0;34m\u001b[0m\u001b[0m\n\u001b[0;32m----> 9\u001b[0;31m         \u001b[0mstemmed\u001b[0m\u001b[0;34m.\u001b[0m\u001b[0mappend\u001b[0m\u001b[0;34m(\u001b[0m\u001b[0mstemmer\u001b[0m\u001b[0;34m.\u001b[0m\u001b[0mstem\u001b[0m\u001b[0;34m(\u001b[0m\u001b[0mtoken\u001b[0m\u001b[0;34m)\u001b[0m\u001b[0;34m)\u001b[0m\u001b[0;34m\u001b[0m\u001b[0;34m\u001b[0m\u001b[0m\n\u001b[0m\u001b[1;32m     10\u001b[0m     \u001b[0mstemmed\u001b[0m\u001b[0;34m=\u001b[0m\u001b[0;34m[\u001b[0m\u001b[0mw\u001b[0m \u001b[0;32mfor\u001b[0m \u001b[0mw\u001b[0m \u001b[0;32min\u001b[0m \u001b[0mstemmed\u001b[0m \u001b[0;32mif\u001b[0m \u001b[0mlen\u001b[0m\u001b[0;34m(\u001b[0m\u001b[0mw\u001b[0m\u001b[0;34m)\u001b[0m \u001b[0;34m>\u001b[0m \u001b[0;36m3\u001b[0m\u001b[0;34m]\u001b[0m\u001b[0;34m\u001b[0m\u001b[0;34m\u001b[0m\u001b[0m\n\u001b[1;32m     11\u001b[0m     \u001b[0;32mreturn\u001b[0m \u001b[0mstemmed\u001b[0m\u001b[0;34m\u001b[0m\u001b[0;34m\u001b[0m\u001b[0m\n",
      "\u001b[0;32m/anaconda3/envs/metis/lib/python3.6/site-packages/nltk/stem/snowball.py\u001b[0m in \u001b[0;36mstem\u001b[0;34m(self, word)\u001b[0m\n\u001b[1;32m   1427\u001b[0m             \u001b[0mword\u001b[0m\u001b[0;34m.\u001b[0m\u001b[0mreplace\u001b[0m\u001b[0;34m(\u001b[0m\u001b[0;34m\"\\u2019\"\u001b[0m\u001b[0;34m,\u001b[0m \u001b[0;34m\"\\x27\"\u001b[0m\u001b[0;34m)\u001b[0m\u001b[0;34m\u001b[0m\u001b[0;34m\u001b[0m\u001b[0m\n\u001b[1;32m   1428\u001b[0m             \u001b[0;34m.\u001b[0m\u001b[0mreplace\u001b[0m\u001b[0;34m(\u001b[0m\u001b[0;34m\"\\u2018\"\u001b[0m\u001b[0;34m,\u001b[0m \u001b[0;34m\"\\x27\"\u001b[0m\u001b[0;34m)\u001b[0m\u001b[0;34m\u001b[0m\u001b[0;34m\u001b[0m\u001b[0m\n\u001b[0;32m-> 1429\u001b[0;31m             \u001b[0;34m.\u001b[0m\u001b[0mreplace\u001b[0m\u001b[0;34m(\u001b[0m\u001b[0;34m\"\\u201B\"\u001b[0m\u001b[0;34m,\u001b[0m \u001b[0;34m\"\\x27\"\u001b[0m\u001b[0;34m)\u001b[0m\u001b[0;34m\u001b[0m\u001b[0;34m\u001b[0m\u001b[0m\n\u001b[0m\u001b[1;32m   1430\u001b[0m         )\n\u001b[1;32m   1431\u001b[0m \u001b[0;34m\u001b[0m\u001b[0m\n",
      "\u001b[0;31mKeyboardInterrupt\u001b[0m: "
     ]
    }
   ],
   "source": [
    "# Count Vectorizer\n",
    "vectorizer_count, doc_term_mat_count, corpus_count, id2word_count = countvec(preprocess(reviews_compiled.reviewContent),ngram_range=(2,3))\n"
   ]
  },
  {
   "cell_type": "code",
   "execution_count": null,
   "metadata": {},
   "outputs": [],
   "source": [
    "pickle.dump(vectorizer_count, open(\"vectorizer_count.pickle\", \"wb\"))\n",
    "pickle.dump(doc_term_mat_count, open(\"doc_term_mat_count.pickle\", \"wb\"))"
   ]
  },
  {
   "cell_type": "code",
   "execution_count": 104,
   "metadata": {},
   "outputs": [
    {
     "name": "stderr",
     "output_type": "stream",
     "text": [
      "/anaconda3/envs/metis/lib/python3.6/site-packages/sklearn/feature_extraction/text.py:300: UserWarning: Your stop_words may be inconsistent with your preprocessing. Tokenizing the stop words generated tokens ['afterward', 'alon', 'alreadi', 'alway', 'andr', 'angel', 'angelini', 'anoth', 'anyon', 'anyth', 'anywher', 'becam', 'becom', 'besid', 'build', 'chri', 'cinema', 'describ', 'elsewher', 'empti', 'everi', 'everyon', 'everyth', 'everywher', 'ferri', 'fifti', 'foreign', 'forti', 'francisco', 'french', 'henc', 'hereaft', 'herebi', 'howev', 'hundr', 'inde', 'mani', 'meanwhil', 'moreov', 'nobodi', 'noon', 'noth', 'nowher', 'osteria', 'otherwis', 'perhap', 'pleas', 'sever', 'sinc', 'sincer', 'sixti', 'someon', 'someth', 'sometim', 'somewher', 'thenc', 'thereaft', 'therebi', 'therefor', 'thoma', 'togeth', 'twelv', 'twenti', 'whatev', 'whenc', 'whenev', 'wherea', 'whereaft', 'wherebi', 'wherev'] not in stop_words.\n",
      "  'stop_words.' % sorted(inconsistent))\n"
     ]
    }
   ],
   "source": [
    "# TF-IDF Vectorizer\n",
    "vectorizer_tf, doc_term_mat_tf, corpus_tf, id2word_tf = tfidfvec(preprocess(reviews_compiled.reviewContent),ngram_range=(2,3))\n"
   ]
  },
  {
   "cell_type": "code",
   "execution_count": null,
   "metadata": {},
   "outputs": [],
   "source": [
    "pickle.dump(vectorizer_tf, open(\"vectorizer_tf.pickle\", \"wb\"))\n",
    "pickle.dump(doc_term_mat_tf, open(\"doc_term_mat_tf.pickle\", \"wb\"))"
   ]
  },
  {
   "cell_type": "markdown",
   "metadata": {},
   "source": [
    "### LSA on restaurant split"
   ]
  },
  {
   "cell_type": "code",
   "execution_count": 65,
   "metadata": {
    "collapsed": true,
    "jupyter": {
     "outputs_hidden": true
    }
   },
   "outputs": [
    {
     "name": "stdout",
     "output_type": "stream",
     "text": [
      "Explained Variance Ratio per topic:\n",
      " [0.18715454 0.04307303 0.01771682 0.015356   0.01372595 0.01323415\n",
      " 0.01254704 0.01166639 0.01136608 0.0104113  0.00958493 0.00944344\n",
      " 0.00878139 0.00854992 0.00795718 0.00776215 0.00747425 0.00728543\n",
      " 0.00713868 0.00695331]\n",
      "\n",
      "Topic  0\n",
      "dine experi, food good, wine pair, wine list, tast like, feel like, fine dine, look like, servic good, cook perfect\n",
      "\n",
      "Topic  1\n",
      "wine pair, fine dine, cours meal, dine experi, special occas, duck breast, second cours, servic impecc, sear scallop, chees plate\n",
      "\n",
      "Topic  2\n",
      "dine experi, melt mouth, tast like, sushi chef, make reserv, cook perfect, cours meal, make sure, caramel onion, noth special\n",
      "\n",
      "Topic  3\n",
      "wine list, cours meal, duck breast, cook perfect, high recommend, wine select, great wine, melt mouth, chees plate, special occas\n",
      "\n",
      "Topic  4\n",
      "food good, cours meal, dine experi, servic great, caramel onion, sear scallop, special occas, duck breast, food great, bottl wine\n",
      "\n",
      "Topic  5\n",
      "make reserv, sushi chef, wine pair, melt mouth, wine list, good sushi, make sure, everi time, fish fresh, wait minut\n",
      "\n",
      "Topic  6\n",
      "fine dine, dine experi, feel like, bottl wine, lamb chop, wine list, servic good, food excel, food servic, servic food\n",
      "\n",
      "Topic  7\n",
      "dine experi, look like, wine list, tast like, noth special, glass wine, sweet potato, peopl watch, loung area, food good\n",
      "\n",
      "Topic  8\n",
      "tast like, peanut butter, food good, main cours, dine experi, cook perfect, famili style, high recommend, melt mouth, sushi chef\n",
      "\n",
      "Topic  9\n",
      "look like, famili style, main cours, make sure, make reserv, comfort food, everi time, dine experi, cook perfect, servic food\n",
      "\n",
      "Topic  10\n",
      "make reserv, dine experi, green bean, peanut butter, good great, chees plate, servic good, late night, creme fraich, blue chees\n",
      "\n",
      "Topic  11\n",
      "fine dine, tast like, duck breast, long time, make reserv, good flavor, special occas, make sure, caramel onion, late night\n",
      "\n",
      "Topic  12\n",
      "tast like, feel like, perfect cook, dine experi, late night, open kitchen, food servic, tuna tartar, wine pair, green bean\n",
      "\n",
      "Topic  13\n",
      "food servic, high recommend, dine experi, perfect cook, crab cake, lamb chop, dine companion, late night, friday night, wine pair\n",
      "\n",
      "Topic  14\n",
      "sushi chef, reason price, brussel sprout, bacon wrap, servic great, chees plate, blue chees, bottl wine, late night, dine experi\n",
      "\n",
      "Topic  15\n",
      "high recommend, look like, cook perfect, creme fraich, fine dine, food good, look forward, great flavor, good noth, tabl close\n",
      "\n",
      "Topic  16\n",
      "felt like, fine dine, friday night, high recommend, sushi chef, noth special, main cours, food great, saturday night, food drink\n",
      "\n",
      "Topic  17\n",
      "glass wine, make sure, lamb chop, chees plate, noth special, felt like, perfect cook, famili style, didn like, servic friend\n",
      "\n",
      "Topic  18\n",
      "late night, duck breast, cook perfect, peopl watch, order drink, creme fraich, food drink, food great, dine experi, sweet potato\n",
      "\n",
      "Topic  19\n",
      "lamb chop, servic great, high recommend, sweet potato, reason price, good flavor, wine pair, chees plate, cook perfect, melt mouth\n"
     ]
    }
   ],
   "source": [
    "lsa_c = TruncatedSVD(20)\n",
    "doc_topic_lsa_c = lsa_c.fit_transform(doc_term_mat_count)\n",
    "print('Explained Variance Ratio per topic:\\n',lsa_c.explained_variance_ratio_)\n",
    "\n",
    "topic_word = pd.DataFrame(lsa_c.components_.round(3),\n",
    "             columns = vectorizer_count.get_feature_names())\n",
    "display_topics(lsa_c, vectorizer_count.get_feature_names(), 10)"
   ]
  },
  {
   "cell_type": "code",
   "execution_count": 66,
   "metadata": {},
   "outputs": [],
   "source": [
    "lsa_c_feats = pd.DataFrame(reviews_compiled.restaurantID).reset_index().drop(labels='index',axis=1).merge(pd.DataFrame(doc_topic_lsa_c),right_index=True,left_index=True)\n",
    "lsa_c_feats.to_pickle('data/lsa_c_feats4.pkl')"
   ]
  },
  {
   "cell_type": "code",
   "execution_count": 105,
   "metadata": {},
   "outputs": [
    {
     "name": "stdout",
     "output_type": "stream",
     "text": [
      "Explained Variance Ratio per topic:\n",
      " [0.0176619  0.01125579 0.01013933 0.00861293 0.00851032 0.00789567\n",
      " 0.00762669 0.00707403 0.00693808 0.00671974 0.0066812  0.00638296\n",
      " 0.00636198 0.00615729 0.00607653 0.00593703 0.00570391 0.00568806\n",
      " 0.00559737 0.00549115]\n",
      "\n",
      "Topic  0\n",
      "food good, wine list, look like, tast like, feel like, dine experi, servic good, cook perfect, high recommend, food servic, servic great, wine pair, main cours, fine dine, make sure, melt mouth, felt like, make reserv, perfect cook, glass wine, special occas, bottl wine, noth special, quit good, look forward, servic excel, good thing, reason price, wait staff, long time\n",
      "\n",
      "Topic  1\n",
      "sushi chef, good sushi, fish fresh, food good, make reserv, saturday night, melt mouth, look like, make sure, good order, noth special, peopl watch, servic good, loung area, tast good, everi time, friday night, good fresh, right away, wasn good, great time, thing menu, wait minut, peopl like, drink order, late night, read review, fresh delici, great view, look good\n",
      "\n",
      "Topic  2\n",
      "sushi chef, wine pair, dine experi, fine dine, melt mouth, fish fresh, good sushi, tast like, cours meal, special occas, high qualiti, second cours, food wine, duck breast, beauti present, best meal, cook perfect, food servic, everi time, great meal, perfect cook, fresh ingredi, favorit night, everi singl, read review, servic impecc, peanut butter, felt like, make reserv, prix menu\n",
      "\n",
      "Topic  3\n",
      "wine list, high recommend, bottl wine, sushi chef, great wine, reason price, good wine, wine select, servic great, enjoy meal, make reserv, food great, beet salad, chees plate, great atmospher, quit good, wine glass, glass wine, servic excel, pinot noir, long time, time year, caesar salad, melt mouth, blue chees, late night, look forward, dark wood, make sure, everi time\n",
      "\n",
      "Topic  4\n",
      "food good, wine list, sushi chef, wine pair, bottl wine, good servic, good great, great wine, good price, cours meal, good wine, reason price, servic littl, price reason, fine dine, food wine, food servic, chees plate, servic friend, wine select, valet park, enjoy meal, servic food, everi time, glass wine, ambianc servic, fish fresh, dine experi, good sushi, want order\n",
      "\n",
      "Topic  5\n",
      "feel like, special occas, make sure, great view, servic great, high recommend, make reserv, dine experi, food good, wait staff, make feel, food delici, great time, food great, wine pair, custom servic, excel servic, food excel, fine dine, servic food, food servic, wait minut, servic impecc, sever time, good drink, didn feel, larg group, look forward, spend money, good time\n",
      "\n",
      "Topic  6\n",
      "look like, tast like, wine list, bottl wine, wine pair, chees plate, feel like, didn want, loung area, saturday night, peopl watch, food drink, outdoor patio, dine area, good time, wine glass, thursday night, small portion, high expect, wait minut, drink good, wait long, great time, littl pricey, good look, order food, lack flavor, write home, late night, sound like\n",
      "\n",
      "Topic  7\n",
      "feel like, special occas, servic good, wine list, tast like, make feel, bottl wine, good food, didn feel, sushi chef, good noth, food decent, food good, noth special, excel servic, friday night, portion size, long time, quit good, bacon wrap, small portion, servic attent, someth like, good meal, littl pricey, wine glass, good thing, time went, main cours, like food\n",
      "\n",
      "Topic  8\n",
      "make sure, servic good, dine experi, make reserv, food servic, wine list, caesar salad, crab cake, food decent, good food, menu chang, enjoy meal, green bean, good think, good wine, wine glass, salad good, price food, good experi, bottl wine, fine dine, reserv time, good friend, great view, lunch dinner, tuna tartar, write home, good servic, didn care, sweet potato\n",
      "\n",
      "Topic  9\n",
      "tast like, high recommend, dine experi, make reserv, saturday night, felt like, food good, green bean, feel like, look forward, servic great, right away, good thing, seat right, servic attent, food delici, bottl wine, seat right away, reason price, high qualiti, larg group, price reason, small portion, best thing, like food, qualiti ingredi, friend servic, reserv seat, love love, drink order\n",
      "\n",
      "Topic  10\n",
      "caesar salad, tast like, special occas, look like, crab cake, blue chees, food good, green bean, high recommend, bottl wine, make reserv, melt mouth, lobster bisqu, good steak, cook perfect, servic attent, great view, steak cook, steak good, cours meal, good servic, dine experi, cream sauc, everi bite, sushi chef, right away, cook right, enjoy meal, time order, main cours\n",
      "\n",
      "Topic  11\n",
      "dine experi, great view, crab cake, tast like, food servic, late night, lobster bisqu, servic slow, saturday night, loung area, drink good, peopl watch, servic attent, wait staff, servic food, food great, glass wine, food decent, staff friend, wait minut, enjoy meal, wine list, friday night, fine dine, wasn good, servic excel, white wine, dinner drink, minut later, great time\n",
      "\n",
      "Topic  12\n",
      "high recommend, feel like, caesar salad, chees plate, servic good, blue chees, wine pair, wine select, saturday night, food good, green bean, dine experi, cream sauc, peopl watch, sushi chef, beet salad, street park, alway good, quit good, good drink, good servic, loung area, make reserv, crab cake, bacon wrap, reason price, good steak, good time, delici food, steak good\n",
      "\n",
      "Topic  13\n",
      "blue chees, servic great, feel like, tast like, chees plate, make sure, sushi chef, look good, wine pair, felt like, make feel, crab cake, pinot noir, bacon wrap, beet salad, food servic, butternut squash, tuna tartar, late night, small portion, sweet potato, drink good, good steak, loung area, good servic, comfort food, peopl watch, sweet corn, blood orang, someth like\n",
      "\n",
      "Topic  14\n",
      "food servic, high recommend, tast like, friday night, servic great, crab cake, servic good, wine pair, servic excel, great time, lobster bisqu, love love, good food, fine dine, sweet potato, feel like, wine list, pinot noir, good time, didn feel, outdoor seat, high qualiti, blue chees, alway good, noth special, delici food, best thing, good servic, good like, look good\n",
      "\n",
      "Topic  15\n",
      "feel like, dine experi, cook perfect, look like, servic great, lamb chop, food servic, outdoor patio, crab cake, heirloom tomato, noth special, sushi chef, good flavor, melt mouth, enjoy meal, fine dine, long time, great view, great flavor, green bean, wine list, probabl best, reason price, sauc good, great meal, bottl wine, good noth, perfect cook, tomato salad, steak cook\n",
      "\n",
      "Topic  16\n",
      "great view, noth special, blue chees, high recommend, make sure, chees plate, valet park, outdoor seat, quit good, make reserv, glass wine, outdoor patio, creme fraich, wasn good, pinot noir, street park, appet entre, didn know, dinner menu, heat lamp, melt mouth, bottl wine, butternut squash, food okay, look menu, servic friend, duck breast, great flavor, lobster bisqu, food drink\n",
      "\n",
      "Topic  17\n",
      "noth special, felt like, blue chees, make reserv, good noth, didn know, crab cake, servic attent, right away, glass wine, green bean, seat right, seat right away, pinot noir, feel like, lobster bisqu, dine experi, lamb chop, wait minut, qualiti food, cours meal, food okay, thing like, didn like, wasn impress, minut later, tuna tartar, perfect cook, wait long, friend order\n",
      "\n",
      "Topic  18\n",
      "bottl wine, servic good, good thing, dine experi, friday night, saturday night, high recommend, special occas, blue chees, great view, good great, chees plate, butternut squash, enjoy meal, minut later, green bean, wine select, food decent, food servic, dine companion, look forward, order food, beet salad, drink order, qualiti food, drink good, good time, reason price, thing menu, food order\n",
      "\n",
      "Topic  19\n",
      "special occas, chees plate, late night, dine experi, servic good, glass wine, saturday night, friday night, blue chees, didn know, peopl watch, cook perfect, staff friend, tast like, fine dine, food good, great time, make sure, food delici, custom servic, good steak, dinner drink, valet park, good food, everi time, steak cook, wine glass, look forward, loung area, look like\n"
     ]
    }
   ],
   "source": [
    "lsa_tf = TruncatedSVD(20)\n",
    "doc_topic_lsa_t = lsa_tf.fit_transform(doc_term_mat_tf)\n",
    "print('Explained Variance Ratio per topic:\\n',lsa_tf.explained_variance_ratio_)\n",
    "\n",
    "topic_word = pd.DataFrame(lsa_tf.components_.round(3),\n",
    "             columns = vectorizer_tf.get_feature_names())\n",
    "display_topics(lsa_tf, vectorizer_tf.get_feature_names(), 30)"
   ]
  },
  {
   "cell_type": "code",
   "execution_count": 68,
   "metadata": {},
   "outputs": [],
   "source": [
    "lsa_t_feats = pd.DataFrame(reviews_compiled.restaurantID).reset_index().drop(labels='index',axis=1).merge(pd.DataFrame(doc_topic_lsa_t),right_index=True,left_index=True)\n",
    "lsa_t_feats.to_pickle('data/lsa_t_feats4.pkl')"
   ]
  },
  {
   "cell_type": "markdown",
   "metadata": {},
   "source": [
    "## NMF on restaurant split"
   ]
  },
  {
   "cell_type": "code",
   "execution_count": 69,
   "metadata": {
    "collapsed": true,
    "jupyter": {
     "outputs_hidden": true
    }
   },
   "outputs": [
    {
     "name": "stdout",
     "output_type": "stream",
     "text": [
      "\n",
      "Topic  0\n",
      "fine dine, special occas, main cours, felt like, creme fraich, cours meal, second cours, servic food, best meal, beauti present\n",
      "\n",
      "Topic  1\n",
      "wine pair, food servic, perfect cook, food wine, look like, good good, meyer lemon, didn feel, feel like, great meal\n",
      "\n",
      "Topic  2\n",
      "tast like, noth special, didn like, caramel onion, good flavor, flavor textur, favorit night, dark chocol, didn tast, chocol mouss\n",
      "\n",
      "Topic  3\n",
      "wine list, wine select, great wine, wine glass, glass wine, main cours, good wine, high recommend, food wine, tast good\n",
      "\n",
      "Topic  4\n",
      "food good, good great, good servic, overal food, servic great, didn like, bottl wine, dessert good, servic food, glass wine\n",
      "\n",
      "Topic  5\n",
      "make reserv, make sure, wait minut, high recommend, second time, reserv time, everi time, high expect, wait tabl, good time\n",
      "\n",
      "Topic  6\n",
      "cours meal, duck breast, special occas, caramel onion, cook perfect, sear scallop, wine list, tast like, fine dine, chees plate\n",
      "\n",
      "Topic  7\n",
      "dine experi, melt mouth, servic good, bottl wine, experi food, food amaz, start meal, look forward, food servic, prix menu\n",
      "\n",
      "Topic  8\n",
      "feel like, felt like, make feel, special occas, wine glass, didn feel, wait staff, servic excel, bottl wine, melt mouth\n",
      "\n",
      "Topic  9\n",
      "main cours, famili style, everi time, vanilla cream, make sure, cook perfect, prix menu, servic food, creme fraich, salad fresh\n",
      "\n",
      "Topic  10\n",
      "sushi chef, melt mouth, good sushi, fish fresh, felt like, good fresh, high qualiti, reason price, everi time, tast good\n",
      "\n",
      "Topic  11\n",
      "cook perfect, green bean, melt mouth, perfect cook, high recommend, good steak, steak good, steak cook, crab cake, tender juici\n",
      "\n",
      "Topic  12\n",
      "look like, noth special, saturday night, good time, make sure, peopl watch, loung area, good look, sweet potato, food drink\n",
      "\n",
      "Topic  13\n",
      "food servic, make sure, crab cake, great view, qualiti food, perfect cook, tuna tartar, servic excel, food excel, servic ambianc\n",
      "\n",
      "Topic  14\n",
      "brussel sprout, comfort food, servic great, high recommend, look forward, good thing, friday night, look good, dark wood, reason price\n",
      "\n",
      "Topic  15\n",
      "servic good, good flavor, creme fraich, park avail, street park, duck breast, sweet potato, heirloom tomato, flavor good, good like\n",
      "\n",
      "Topic  16\n",
      "peanut butter, tuna tartar, felt like, main cours, green bean, regular menu, good thing, everyth good, reason price, sweet potato\n",
      "\n",
      "Topic  17\n",
      "chees plate, blue chees, glass wine, beet salad, bacon wrap, wine select, caesar salad, blood orang, food wine, quit good\n",
      "\n",
      "Topic  18\n",
      "late night, high ceil, servic great, food great, order drink, long time, perfect cook, food drink, good start, great time\n",
      "\n",
      "Topic  19\n",
      "lamb chop, servic great, perfect cook, vanilla bean, tender flavor, great atmospher, open kitchen, main cours, amaz food, light flavor\n"
     ]
    }
   ],
   "source": [
    "nmf_c = NMF(20)\n",
    "doc_topic_nmf_c = nmf_c.fit_transform(doc_term_mat_count)\n",
    "# nmf_model.explained_variance_ratio_\n",
    "topic_word = pd.DataFrame(nmf_c.components_.round(3),\n",
    "             columns = vectorizer_count.get_feature_names())\n",
    "display_topics(nmf_c, vectorizer_count.get_feature_names(), 10)"
   ]
  },
  {
   "cell_type": "code",
   "execution_count": 70,
   "metadata": {},
   "outputs": [],
   "source": [
    "nmf_c_feats = pd.DataFrame(reviews_compiled.restaurantID).reset_index().drop(labels='index',axis=1).merge(pd.DataFrame(doc_topic_nmf_c),right_index=True,left_index=True)\n",
    "nmf_c_feats.to_pickle('data/nmf_c_feats4.pkl')"
   ]
  },
  {
   "cell_type": "code",
   "execution_count": 94,
   "metadata": {
    "jupyter": {
     "outputs_hidden": true
    }
   },
   "outputs": [
    {
     "name": "stdout",
     "output_type": "stream",
     "text": [
      "\n",
      "Topic  0\n",
      "flavor, good, dessert, sauc, like, cream, bread, sweet, chocol, crispi, chees, lamb, light, duck, perfect, pork, textur, green, tast, creami, roast, entre, serv, order, potato, littl, tender, rich, butter, salad\n",
      "\n",
      "Topic  1\n",
      "sushi, fish, omakas, sashimi, japanes, chef, toro, nigiri, fresh, sushi chef, rice, qualiti, good, piec, salmon, sake, yellowtail, like, japan, albacor, best, tuna, order, wasabi, hamachi, good sushi, ponzu, serv, snapper, tempura\n",
      "\n",
      "Topic  2\n",
      "danc, club, floor, night, like, music, peopl, girl, crowd, loung, line, friend, time, hollywood, parti, drink, venu, cool, entertain, area, drunk, play, bottl, cover, look, think, event, perform, know, upstair\n",
      "\n",
      "Topic  3\n",
      "steak, steakhous, filet, ribey, order, prime, good, medium_rar, cook, salad, hous, bone, potato, filet_mignon, perfect, mashed_potato, sauc, dessert, rare, bread, good steak, steak good, best, butter, medium, onion, order steak, special, cake, meal\n",
      "\n",
      "Topic  4\n",
      "cours, chef, foie_gra, tasting_menu, pair, meal, dine, experi, wine pair, food, like, lobster, tast, truffl, dessert, caviar, menu, present, servic, best, chocol, soup, duck, everi, fine dine, amuse_bouch, cook, prepar, fine, perfect\n",
      "\n",
      "Topic  5\n",
      "view, ocean, brunch, window, great view, beach, sunset, food, amaz, beauti, spectacular, overlook, pacif, buffet, seat, hill, dinner, gorgeous, patio, breakfast, floor, lobster, benedict, diego, locat, citi, elev, better, watch, great_servic\n",
      "\n",
      "Topic  6\n",
      "wine, list, wine list, bottl, glass, chees, flight, select, bottl wine, menu, plate, local, glass wine, dinner, small, wine select, tast, wine glass, friend, pair, pinot, great wine, price, enjoy, napa, chees plate, good wine, littl, salad, date\n",
      "\n",
      "Topic  7\n",
      "pasta, italian, ravioli, gnocchi, italian_food, sauc, spaghetti, bread, itali, risotto, oliv, tomato, dent, good, veal, authent, fresh, calamari, prosciutto, light, mozzarella, tomato_sauc, salad, burrata, lobster, homemad, amaz, appet, perfect, owner\n",
      "\n",
      "Topic  8\n",
      "good, food, servic, like, price, food good, better, decent, think, servic good, decor, littl, time, tast, overal, friend, wasn, okay, atmospher, noth, thing, qualiti, locat, high, look, feel, probabl, asian, menu, peopl\n",
      "\n",
      "Topic  9\n",
      "great, food, servic, love, time, delici, alway, excel, perfect, amaz, recommend, atmospher, dinner, beauti, servic great, best, fantast, wonder, enjoy, ambianc, friend, food great, favorit, everyth, meal, great_food, patio, area, definit, date\n",
      "\n",
      "Topic  10\n",
      "tabl, order, wait, food, minut, time, reserv, didn, server, seat, make, waiter, want, said, took, like, night, wasn, friend, dinner, sinc, servic, meal, check, know, arriv, final, told, review, sure\n",
      "\n",
      "Topic  11\n",
      "crab, seafood, oyster, lobster, shrimp, fish, order, fresh, scallop, sauc, clam, mussel, appet, crab cake, calamari, cake, bisqu, tuna, rice, happy_hour, prawn, garlic, tasti, tast, steam, best, delici, halibut, special, dungeness_crab\n",
      "\n",
      "Topic  12\n",
      "chicken, rice, japanes, beef, grill, food, chines, shrimp, noodl, skewer, tofu, spici, asian, serv, spice, order, disappoint, sauc, garlic, curri, soup, beer, flavor, tasti, thai, ball, definit, delici, cook, green\n",
      "\n",
      "Topic  13\n",
      "meat, buffet, beef, chees, salad, like, grill, qualiti, lamb, bacon, think, prime, want, pork, veggi, wrap, sausag, best, didn, varieti, piec, cook, differ, love, make, person, price, plate, tender, bacon wrap\n",
      "\n",
      "Topic  14\n",
      "burger, chees, bacon, menu, oyster, good, order, onion, truffl, great, bread, perfect, thing, medium_rar, grill, plate, cheddar, cook, juici, happy_hour, chef, kobe, best, cocktail, lettuc, sandwich, want, insid, make, amaz\n",
      "\n",
      "Topic  15\n",
      "pizza, crust, chees, prosciutto, wood, good, mozzarella, sausag, great, locat, like, oliv, garlic, pasta, napa, ricotta, oven, fennel, mushroom, grill, burrata, fresh, think, better, onlin, make, dough, charg, start, order\n",
      "\n",
      "Topic  16\n",
      "hotel, room, stay, pool, breakfast, lobbi, staff, locat, area, park, night, bathroom, clean, free, rate, beach, comfort, check, look, need, suit, walk, like, brunch, servic, valet, guest, drive, weekend, modern\n",
      "\n",
      "Topic  17\n",
      "roll, spicy_tuna, sake, tempura, edamam, japanes, sushi, special, spici, sauc, shrimp, miso, menu, tuna, order, sashimi, spring, avocado, miso_soup, fusion, like, salmon, jalapeno, definit, park, wrap, price, night, friend, didn\n",
      "\n",
      "Topic  18\n",
      "lunch, salad, sandwich, brunch, like, servic, fresh, busi, look, lunch menu, menu, littl, soup, special, salmon, fish, portion, cafe, time, outsid, tomato, ingredi, dress, patio, price, lunch dinner, bread, park, season, white\n",
      "\n",
      "Topic  19\n",
      "drink, happy_hour, cocktail, loung, bartend, area, martini, friend, order, menu, cool, like, vodka, slider, crowd, dinner, taco, beer, enjoy, night, mojito, appet, chees, peopl, patio, dinner drink, tasti, glass, scene, spot\n"
     ]
    }
   ],
   "source": [
    "nmf_t = NMF(20)\n",
    "doc_topic_nmf_t = nmf_t.fit_transform(doc_term_mat_tf)\n",
    "# nmf_model_tf = doc_topic\n",
    "# nmf_model.explained_variance_ratio_\n",
    "topic_word = pd.DataFrame(nmf_t.components_.round(3),\n",
    "             columns = vectorizer_tf.get_feature_names())\n",
    "display_topics(nmf_t, vectorizer_tf.get_feature_names(), 30)"
   ]
  },
  {
   "cell_type": "code",
   "execution_count": 72,
   "metadata": {},
   "outputs": [],
   "source": [
    "nmf_t_feats = pd.DataFrame(reviews_compiled.restaurantID).reset_index().drop(labels='index',axis=1).merge(pd.DataFrame(doc_topic_nmf_t),right_index=True,left_index=True)\n",
    "nmf_t_feats.to_pickle('data/nmf_t_feats4.pkl')"
   ]
  },
  {
   "cell_type": "markdown",
   "metadata": {},
   "source": [
    "## LDA on restaurant split"
   ]
  },
  {
   "cell_type": "code",
   "execution_count": 74,
   "metadata": {},
   "outputs": [],
   "source": [
    "from sklearn.decomposition import LatentDirichletAllocation"
   ]
  },
  {
   "cell_type": "code",
   "execution_count": 75,
   "metadata": {},
   "outputs": [],
   "source": [
    "lda_c = LatentDirichletAllocation(n_components=20,max_iter=50)\n",
    "doc_topic_lda_c = lda_c.fit_transform(doc_term_mat_count)"
   ]
  },
  {
   "cell_type": "code",
   "execution_count": 76,
   "metadata": {
    "jupyter": {
     "outputs_hidden": true
    }
   },
   "outputs": [
    {
     "name": "stdout",
     "output_type": "stream",
     "text": [
      "\n",
      "Topic  0\n",
      "sushi chef, melt mouth, good sushi, fish fresh, good fresh, fresh delici, didn know, high qualiti, noth special, felt like\n",
      "\n",
      "Topic  1\n",
      "crab cake, lobster bisqu, cook perfect, good steak, steak cook, food servic, steak good, tender juici, order steak, servic excel\n",
      "\n",
      "Topic  2\n",
      "look like, food good, food order, tast like, feel like, dine experi, make sure, good think, main cours, good time\n",
      "\n",
      "Topic  3\n",
      "outdoor patio, great view, food good, servic food, great atmospher, look like, servic great, servic slow, sweet potato, appet entre\n",
      "\n",
      "Topic  4\n",
      "special occas, feel like, make sure, love love, servic great, food delici, custom servic, high recommend, servic excel, make reserv\n",
      "\n",
      "Topic  5\n",
      "wine list, food good, bottl wine, outdoor seat, servic good, green bean, heat lamp, good wine, wine select, good food\n",
      "\n",
      "Topic  6\n",
      "beet salad, wine list, brussel sprout, reason price, look forward, bottl wine, heirloom tomato, creme fraich, chocol sauc, good thing\n",
      "\n",
      "Topic  7\n",
      "lamb chop, heirloom tomato, dine experi, fresh ingredi, perfect cook, vanilla cream, great meal, famili style, tomato salad, make sure\n",
      "\n",
      "Topic  8\n",
      "peanut butter, tast like, noth special, chocol mouss, prix menu, cook perfect, servic good, caramel onion, butternut squash, creme fraich\n",
      "\n",
      "Topic  9\n",
      "caesar salad, blue chees, dinner menu, salad good, sweet potato, servic attent, sound good, servic good, lunch menu, time year\n",
      "\n",
      "Topic  10\n",
      "food good, good noth, make reserv, wait minut, definit worth, smoke salmon, servic good, wasn impress, look like, food like\n",
      "\n",
      "Topic  11\n",
      "servic good, good flavor, food good, high qualiti, park avail, street park, price high, vanilla cream, qualiti ingredi, food alway\n",
      "\n",
      "Topic  12\n",
      "chees plate, glass wine, quit good, feel like, pinot noir, look like, green salad, tast like, brussel sprout, wine list\n",
      "\n",
      "Topic  13\n",
      "wine list, late night, great wine, wine glass, food great, servic great, great atmospher, high recommend, long time, dine companion\n",
      "\n",
      "Topic  14\n",
      "feel like, green bean, tuna tartar, melt mouth, perfect cook, dine experi, main cours, servic good, cook perfect, friday night\n",
      "\n",
      "Topic  15\n",
      "wine pair, fine dine, dine experi, cours meal, tast like, food servic, duck breast, wine list, second cours, main cours\n",
      "\n",
      "Topic  16\n",
      "peopl watch, saturday night, sever time, food good, order drink, loung area, friday night, drink order, look like, great time\n",
      "\n",
      "Topic  17\n",
      "right away, seat right, make reserv, seat right away, tast like, high recommend, servic good, look like, high expect, wasn good\n",
      "\n",
      "Topic  18\n",
      "servic great, food good, didn like, long time, tast like, quit good, high recommend, look good, bacon wrap, flavor good\n",
      "\n",
      "Topic  19\n",
      "cream sauc, sweet potato, good flavor, good thing, small portion, servic friend, bread good, yelp review, tast good, good like\n"
     ]
    }
   ],
   "source": [
    "topic_word = pd.DataFrame(lda_c.components_.round(3),\n",
    "             columns = vectorizer_count.get_feature_names())\n",
    "display_topics(lda_c, vectorizer_count.get_feature_names(), 10)"
   ]
  },
  {
   "cell_type": "code",
   "execution_count": 77,
   "metadata": {},
   "outputs": [
    {
     "data": {
      "text/plain": [
       "(2371, 393)"
      ]
     },
     "execution_count": 77,
     "metadata": {},
     "output_type": "execute_result"
    }
   ],
   "source": [
    "doc_term_mat_tf.shape"
   ]
  },
  {
   "cell_type": "code",
   "execution_count": 78,
   "metadata": {},
   "outputs": [],
   "source": [
    "lda_c_feats = pd.DataFrame(reviews_compiled.restaurantID).reset_index().drop(labels='index',axis=1).merge(pd.DataFrame(doc_topic_lda_c),right_index=True,left_index=True)\n",
    "lda_c_feats.to_pickle('data/lda_c_feats4.pkl')"
   ]
  },
  {
   "cell_type": "code",
   "execution_count": 95,
   "metadata": {},
   "outputs": [],
   "source": [
    "lda_t = LatentDirichletAllocation(n_components=20,max_iter=50)\n",
    "doc_topic_lda_t = lda_t.fit_transform(doc_term_mat_tf)"
   ]
  },
  {
   "cell_type": "code",
   "execution_count": 96,
   "metadata": {
    "collapsed": true,
    "jupyter": {
     "outputs_hidden": true
    }
   },
   "outputs": [
    {
     "name": "stdout",
     "output_type": "stream",
     "text": [
      "\n",
      "Topic  0\n",
      "runni, fuck, seat right away, reflect, mouth water, indoor, saffron, itali, spaghetti, japan, miso_soup, omakas, nigiri, good sushi, sushi chef, good, toro, food, excel food, delici food, overr, custom servic, grand, atmospher great, italian_food, great_food, mile, fresh delici, good price, game\n",
      "\n",
      "Topic  1\n",
      "food alway, overpr, probabl, alway, food, runni, fuck, seat right away, reflect, mouth water, indoor, saffron, itali, spaghetti, japan, miso_soup, omakas, nigiri, good sushi, good, sushi chef, toro, delici food, excel food, fresh delici, grand, atmospher great, custom servic, overr, great_food\n",
      "\n",
      "Topic  2\n",
      "gorgeous, simpli, runni, fuck, seat right away, reflect, mouth water, indoor, saffron, itali, spaghetti, japan, miso_soup, omakas, nigiri, good sushi, sushi chef, good, excel food, food, toro, delici food, fresh delici, overr, grand, custom servic, atmospher great, italian_food, great_food, enjoy meal\n",
      "\n",
      "Topic  3\n",
      "runni, fuck, seat right away, reflect, mouth water, indoor, saffron, itali, spaghetti, japan, miso_soup, omakas, nigiri, good sushi, sushi chef, good, toro, food, excel food, delici food, overr, custom servic, grand, atmospher great, italian_food, great_food, mile, fresh delici, good price, game\n",
      "\n",
      "Topic  4\n",
      "runni, fuck, seat right away, reflect, mouth water, indoor, saffron, itali, spaghetti, japan, miso_soup, omakas, nigiri, good sushi, sushi chef, good, toro, food, excel food, delici food, overr, custom servic, grand, atmospher great, italian_food, great_food, mile, fresh delici, good price, game\n",
      "\n",
      "Topic  5\n",
      "island, suck, fresh, food, runni, fuck, seat right away, reflect, mouth water, indoor, saffron, itali, spaghetti, japan, miso_soup, omakas, nigiri, good sushi, sushi chef, good, excel food, toro, delici food, great_food, atmospher great, overr, fresh delici, custom servic, grand, pound\n",
      "\n",
      "Topic  6\n",
      "charm, great_servic, tasti, food, runni, fuck, seat right away, reflect, mouth water, indoor, saffron, itali, spaghetti, japan, miso_soup, omakas, nigiri, good sushi, good, sushi chef, toro, excel food, delici food, custom servic, fresh delici, atmospher great, great_food, grand, overr, servic alway\n",
      "\n",
      "Topic  7\n",
      "spaghetti, itali, seat right away, saffron, shave, creme, caramel, salt, runni, mouth water, reflect, indoor, fuck, enjoy dinner, seat right, omakas, carpaccio, price reason, right away, conveni, chees good, group friend, hair, pine, water glass, sophist, dent, clientel, italian, italian_food\n",
      "\n",
      "Topic  8\n",
      "charg, slow, better, runni, fuck, seat right away, reflect, mouth water, indoor, saffron, itali, spaghetti, japan, miso_soup, omakas, nigiri, good sushi, good, sushi chef, food, excel food, toro, delici food, grand, custom servic, atmospher great, italian_food, fresh delici, great_food, overr\n",
      "\n",
      "Topic  9\n",
      "blueberri, martini, wife, bass, salmon, excel, enjoy, runni, fuck, seat right away, reflect, mouth water, indoor, saffron, itali, spaghetti, japan, miso_soup, omakas, nigiri, good sushi, sushi chef, good, food, toro, excel food, delici food, grand, great_food, overr\n",
      "\n",
      "Topic  10\n",
      "awesom, food amaz, beef, chicken, disappoint, websit, stomach, edamam, killer, burger, chill, basic, featur, spici, roll, sweet, wait, spot, amaz, went, time, food, runni, fuck, seat right away, reflect, mouth water, indoor, saffron, itali\n",
      "\n",
      "Topic  11\n",
      "damn good, crunch, damn, pork, roast, make, good, runni, fuck, seat right away, reflect, mouth water, indoor, saffron, itali, spaghetti, japan, miso_soup, omakas, nigiri, good sushi, sushi chef, food, toro, delici food, excel food, fresh delici, overr, great_food, grand\n",
      "\n",
      "Topic  12\n",
      "runni, fuck, seat right away, reflect, mouth water, indoor, saffron, itali, spaghetti, japan, miso_soup, omakas, nigiri, good sushi, sushi chef, good, toro, food, excel food, delici food, overr, custom servic, grand, atmospher great, italian_food, great_food, mile, fresh delici, good price, game\n",
      "\n",
      "Topic  13\n",
      "invent, good, runni, fuck, seat right away, reflect, mouth water, indoor, saffron, itali, spaghetti, japan, miso_soup, omakas, nigiri, good sushi, sushi chef, toro, food, excel food, delici food, atmospher great, great_food, grand, italian_food, fresh delici, custom servic, overr, distanc, breakfast\n",
      "\n",
      "Topic  14\n",
      "good, food, like, great, order, servic, time, wine, menu, friend, love, littl, dinner, salad, tabl, flavor, steak, drink, dessert, night, meal, tast, sauc, perfect, best, look, delici, didn, think, make\n",
      "\n",
      "Topic  15\n",
      "sushi, roll, japanes, sashimi, omakas, fish, sake, nigiri, toro, spicy_tuna, sushi chef, tempura, chef, japan, yellowtail, miso_soup, rice, indoor, albacor, hamachi, fresh, good sushi, piec, salmon, miso, fuck, qualiti, reflect, wasabi, ponzu\n",
      "\n",
      "Topic  16\n",
      "close, sorri, care, haven, took, thank, time, locat, runni, fuck, seat right away, reflect, mouth water, indoor, saffron, itali, spaghetti, japan, miso_soup, omakas, nigiri, good sushi, good, sushi chef, food, toro, excel food, delici food, atmospher great, great_food\n",
      "\n",
      "Topic  17\n",
      "crab_cak, happy_hour, decor, good, runni, fuck, seat right away, reflect, mouth water, indoor, saffron, itali, spaghetti, japan, miso_soup, omakas, nigiri, good sushi, sushi chef, excel food, food, toro, delici food, atmospher great, custom servic, fresh delici, great_food, overr, grand, mani time\n",
      "\n",
      "Topic  18\n",
      "exist, random, bunch, knew, locat, runni, fuck, seat right away, reflect, mouth water, indoor, saffron, itali, spaghetti, japan, miso_soup, omakas, nigiri, good sushi, sushi chef, good, food, toro, delici food, excel food, overr, custom servic, great_food, fresh delici, grand\n",
      "\n",
      "Topic  19\n",
      "horribl, servic, runni, fuck, seat right away, reflect, mouth water, indoor, saffron, itali, spaghetti, japan, miso_soup, omakas, nigiri, good sushi, sushi chef, good, toro, excel food, food, delici food, fresh delici, custom servic, great_food, grand, atmospher great, italian_food, overr, breakfast\n"
     ]
    }
   ],
   "source": [
    "topic_word = pd.DataFrame(lda_t.components_.round(3),\n",
    "             columns = vectorizer_tf.get_feature_names())\n",
    "display_topics(lda_t, vectorizer_tf.get_feature_names(), 30)"
   ]
  },
  {
   "cell_type": "code",
   "execution_count": 82,
   "metadata": {},
   "outputs": [],
   "source": [
    "lda_t_feats = pd.DataFrame(reviews_compiled.restaurantID).reset_index().drop(labels='index',axis=1).merge(pd.DataFrame(doc_topic_lda_t),right_index=True,left_index=True)\n",
    "lda_t_feats.to_pickle('data/lda_t_feats4.pkl')"
   ]
  },
  {
   "cell_type": "markdown",
   "metadata": {},
   "source": [
    "## Topic Modeling on Example = Bullion from Dallas, TX\n",
    "The work done below here is for an example used in the project presentation"
   ]
  },
  {
   "cell_type": "code",
   "execution_count": 101,
   "metadata": {},
   "outputs": [],
   "source": [
    "bullion_reviews = txt = open(\"data/bullion_reviews.txt\").read()"
   ]
  },
  {
   "cell_type": "code",
   "execution_count": 110,
   "metadata": {},
   "outputs": [],
   "source": [
    "# Pre_Process\n",
    "bullion_reviews_process = re.sub('\\w*\\d\\w*', ' ', bullion_reviews)\n",
    "bullion_reviews_process = re.sub('[%s]' % re.escape(string.punctuation), ' ', bullion_reviews_process.lower())\n",
    "bullion_reviews_process = re.sub('http.*?¦',' ', bullion_reviews_process)\n",
    "bullion_reviews_process = re.sub('\\\\n',' ',bullion_reviews_process)"
   ]
  },
  {
   "cell_type": "code",
   "execution_count": 116,
   "metadata": {},
   "outputs": [],
   "source": [
    "# Transform on TF-IDF Vectorizer\n",
    "doc_term_bullion = vectorizer_tf.transform(pd.Series(bullion_reviews_process))"
   ]
  },
  {
   "cell_type": "code",
   "execution_count": 117,
   "metadata": {},
   "outputs": [],
   "source": [
    "# Get document-topic matrix with LSA\n",
    "doc_topic_lsa_t_bullion = lsa_tf.transform(doc_term_bullion)\n"
   ]
  },
  {
   "cell_type": "code",
   "execution_count": 124,
   "metadata": {},
   "outputs": [
    {
     "data": {
      "text/plain": [
       "array([ 0.55008134, -0.12656982,  0.04557796,  0.17393609, -0.02667111,\n",
       "        0.0184407 , -0.18908966, -0.03081288, -0.05425768,  0.01228452,\n",
       "        0.03264471,  0.00196892, -0.10826143, -0.03573562, -0.0605818 ,\n",
       "        0.03982949, -0.07230415,  0.08661016, -0.01234881,  0.08003016])"
      ]
     },
     "execution_count": 124,
     "metadata": {},
     "output_type": "execute_result"
    }
   ],
   "source": [
    "# These are the values to input into the test model\n",
    "doc_topic_lsa_t_bullion[0]"
   ]
  },
  {
   "cell_type": "markdown",
   "metadata": {},
   "source": [
    "<a id='sandbox'></a>\n",
    "## SANDBOX\n",
    "Everything below here is mostly unfinished"
   ]
  },
  {
   "cell_type": "markdown",
   "metadata": {},
   "source": [
    "## Clustering\n",
    "Try using clustering algorithms to see if the topic modeling yielded useful clusters of restaurants"
   ]
  },
  {
   "cell_type": "code",
   "execution_count": 39,
   "metadata": {},
   "outputs": [],
   "source": [
    "def kmeans(feature_matrix,k=3):\n",
    "    \"\"\"\n",
    "    K Means clustering with number of clusters = k\n",
    "    \"\"\"\n",
    "    km_model=KMeans(n_clusters=k,random_state=42)\n",
    "    km_model.fit(feature_matrix)\n",
    "    return km_model"
   ]
  },
  {
   "cell_type": "code",
   "execution_count": null,
   "metadata": {},
   "outputs": [],
   "source": []
  },
  {
   "cell_type": "markdown",
   "metadata": {},
   "source": [
    "### KMeans"
   ]
  },
  {
   "cell_type": "code",
   "execution_count": null,
   "metadata": {},
   "outputs": [],
   "source": [
    "feature_matrix = pd.DataFrame(nmf_pos_tf_tastingtapasprefix)\n",
    "km_model = kmeans(feature_matrix)\n",
    "cluster_labels = km_model.labels_.tolist()\n",
    "cluster_df=pd.DataFrame(zip(list(docs_pos.index),list(docs_pos.values),cluster_labels),columns=[\"review_index\",\"review\",\"cluster_label\"],index=cluster_labels)\n",
    "feat_and_target = feature_matrix.copy()\n",
    "feat_and_target['cluster_label'] = cluster_labels\n",
    "# km_model.cluster_centers_"
   ]
  },
  {
   "cell_type": "code",
   "execution_count": null,
   "metadata": {},
   "outputs": [],
   "source": [
    "# Test silhouette scores to confirm best number of clusters\n",
    "k_range = range(2,16)\n",
    "scores = []\n",
    "for k in k_range:\n",
    "    km_ss = kmeans(feature_matrix)\n",
    "    scores.append(silhouette_score(feature_matrix, km_ss.labels_))\n",
    "\n",
    "# plot the results\n",
    "sns.mpl.pyplot.plot(k_range, scores)\n",
    "sns.mpl.pyplot.xlabel('Number of clusters')\n",
    "sns.mpl.pyplot.ylabel('Silhouette Coefficient')"
   ]
  },
  {
   "cell_type": "code",
   "execution_count": null,
   "metadata": {},
   "outputs": [],
   "source": [
    "pd.DataFrame(nmf_pos_tf_tastingtapasprefix)"
   ]
  },
  {
   "cell_type": "code",
   "execution_count": null,
   "metadata": {},
   "outputs": [],
   "source": [
    "# Use PCA to break down to 2 components to visualize\n",
    "pca = PCA(n_components=2)\n",
    "pca.fit(feature_matrix);\n",
    "pca_features = pca.transform(feature_matrix)"
   ]
  },
  {
   "cell_type": "code",
   "execution_count": null,
   "metadata": {},
   "outputs": [],
   "source": [
    "# Visualize clusters in pairplot\n",
    "sns.pairplot(feat_and_target,hue='cluster_label')"
   ]
  },
  {
   "cell_type": "markdown",
   "metadata": {},
   "source": [
    "## Clustering with KMeans"
   ]
  },
  {
   "cell_type": "code",
   "execution_count": 96,
   "metadata": {},
   "outputs": [],
   "source": [
    "feature_matrix = pd.DataFrame(doc_topic_lsa_t)\n",
    "km_model = kmeans(feature_matrix,k=4)\n",
    "km_cluster_labels = km_model.labels_.tolist()\n",
    "km_cluster_df=pd.DataFrame(zip(list(preprocess(reviews_compiled.reviewContent).index),list(preprocess(reviews_compiled.reviewContent).values),km_cluster_labels),columns=[\"restaurant_index\",\"restaurant_reviews\",\"cluster_label\"],index=km_cluster_labels)\n",
    "km_feat_and_target = feature_matrix.copy()\n",
    "km_feat_and_target['cluster_label'] = km_cluster_labels\n",
    "# km_model.cluster_centers_"
   ]
  },
  {
   "cell_type": "markdown",
   "metadata": {},
   "source": [
    "## Clustering with DBSCAN"
   ]
  },
  {
   "cell_type": "code",
   "execution_count": 125,
   "metadata": {},
   "outputs": [],
   "source": [
    "db = DBSCAN(eps=0.25, min_samples=3)\n",
    "db_model = db.fit(feature_matrix)\n",
    "db_cluster_labels = db_model.labels_.tolist()\n",
    "db_cluster_df=pd.DataFrame(zip(list(preprocess(reviews_compiled.reviewContent).index),list(preprocess(reviews_compiled.reviewContent).values),db_cluster_labels),columns=[\"restaurant_index\",\"restaurant_reviews\",\"cluster_label\"],index=db_cluster_labels)\n",
    "db_feat_and_target = feature_matrix.copy()\n",
    "db_feat_and_target['cluster_label'] = db_cluster_labels\n",
    "# km_model.cluster_centers_"
   ]
  },
  {
   "cell_type": "code",
   "execution_count": 126,
   "metadata": {},
   "outputs": [
    {
     "data": {
      "text/plain": [
       " 0     1879\n",
       " 1      102\n",
       "-1       96\n",
       " 3       88\n",
       " 6       78\n",
       " 7       29\n",
       " 2       29\n",
       " 8       28\n",
       " 4       24\n",
       " 9        5\n",
       " 5        4\n",
       " 11       3\n",
       " 12       3\n",
       " 10       3\n",
       "Name: cluster_label, dtype: int64"
      ]
     },
     "execution_count": 126,
     "metadata": {},
     "output_type": "execute_result"
    }
   ],
   "source": [
    "db_cluster_df.cluster_label.value_counts()"
   ]
  },
  {
   "cell_type": "markdown",
   "metadata": {},
   "source": [
    "- PCA to get topics down to fewer (what about just picking a few topics??)\n",
    "- add in other data about reviews and restaurants for more columns"
   ]
  },
  {
   "cell_type": "code",
   "execution_count": 99,
   "metadata": {},
   "outputs": [],
   "source": [
    "from mpl_toolkits import mplot3d\n",
    "\n",
    "def get_cmap(n, name='hsv'):\n",
    "    '''Returns a function that maps each index in 0, 1, ..., n-1 to a distinct \n",
    "    RGB color; the keyword argument name must be a standard mpl colormap name.'''\n",
    "    return plt.cm.get_cmap(name, n)\n",
    "\n",
    "\n",
    "# Create a plot of the PCA results\n",
    "def plot_PCA_3D(data, target, target_names):\n",
    "    colors = cycle(['r','g','b','m','y','orange','w','aqua','yellow'])\n",
    "    cmap = get_cmap(len(target_names))\n",
    "    target_ids = range(len(target_names))\n",
    "    fig = plt.figure(figsize=(5,5))\n",
    "    ax = plt.axes(projection='3d')\n",
    "    for i, label in zip(target_ids, target_names):\n",
    "        ax.scatter3D(data[target == i, 0], data[target == i, 1], data[target == i, 2],\n",
    "                    label=label, edgecolors='gray',alpha=0.3)\n",
    "    plt.legend()"
   ]
  },
  {
   "cell_type": "code",
   "execution_count": 100,
   "metadata": {},
   "outputs": [],
   "source": [
    "# Use PCA to break down to 2 components to visualize\n",
    "pca = PCA(n_components=3)\n",
    "pca.fit(feature_matrix);\n",
    "pca_features = pca.transform(feature_matrix)"
   ]
  },
  {
   "cell_type": "code",
   "execution_count": 121,
   "metadata": {},
   "outputs": [
    {
     "data": {
      "image/png": "[encoded data removed]",
      "text/plain": [
       "<Figure size 360x360 with 1 Axes>"
      ]
     },
     "metadata": {
      "needs_background": "light"
     },
     "output_type": "display_data"
    }
   ],
   "source": [
    "plot_PCA_3D(pca_features, target=km_cluster_df.cluster_label, target_names=km_cluster_df.cluster_label.unique())"
   ]
  },
  {
   "cell_type": "code",
   "execution_count": 127,
   "metadata": {},
   "outputs": [
    {
     "data": {
      "image/png": "[encoded data removed]",
      "text/plain": [
       "<Figure size 360x360 with 1 Axes>"
      ]
     },
     "metadata": {
      "needs_background": "light"
     },
     "output_type": "display_data"
    }
   ],
   "source": [
    "plot_PCA_3D(pca_features, target=db_cluster_df.cluster_label, target_names=db_cluster_df.cluster_label.unique())"
   ]
  },
  {
   "cell_type": "code",
   "execution_count": 104,
   "metadata": {},
   "outputs": [],
   "source": [
    "from itertools import cycle\n",
    "\n",
    "def plot_PCA_2D(data, target, target_names):\n",
    "    colors = cycle(['r','g','b','c','m','y','orange','w','aqua','yellow','pink','purple','lightblue'])\n",
    "    target_ids = range(len(target_names))\n",
    "    plt.figure(figsize=(10,10))\n",
    "    for i, c, label in zip(target_ids, colors, target_names):\n",
    "        print(i,c,label)\n",
    "        plt.scatter(data[target == i, 0], data[target == i, 1],\n",
    "                   c=c, label=label, edgecolors='gray')\n",
    "    plt.legend()"
   ]
  },
  {
   "cell_type": "code",
   "execution_count": 106,
   "metadata": {},
   "outputs": [
    {
     "name": "stdout",
     "output_type": "stream",
     "text": [
      "0 r 3\n",
      "1 g 0\n",
      "2 b 1\n",
      "3 c 2\n"
     ]
    },
    {
     "data": {
      "image/png": "[encoded data removed]",
      "text/plain": [
       "<Figure size 720x720 with 1 Axes>"
      ]
     },
     "metadata": {
      "needs_background": "light"
     },
     "output_type": "display_data"
    }
   ],
   "source": [
    "plot_PCA_2D(pca_features, target=km_cluster_df.cluster_label, target_names=km_cluster_df.cluster_label.unique())\n"
   ]
  }
 ],
 "metadata": {
  "kernelspec": {
   "display_name": "Python 3",
   "language": "python",
   "name": "python3"
  },
  "language_info": {
   "codemirror_mode": {
    "name": "ipython",
    "version": 3
   },
   "file_extension": ".py",
   "mimetype": "text/x-python",
   "name": "python",
   "nbconvert_exporter": "python",
   "pygments_lexer": "ipython3",
   "version": "3.7.3"
  },
  "toc": {
   "base_numbering": 1,
   "nav_menu": {},
   "number_sections": true,
   "sideBar": true,
   "skip_h1_title": true,
   "title_cell": "Table of Contents",
   "title_sidebar": "Contents",
   "toc_cell": true,
   "toc_position": {},
   "toc_section_display": true,
   "toc_window_display": true
  }
 },
 "nbformat": 4,
 "nbformat_minor": 4
}
